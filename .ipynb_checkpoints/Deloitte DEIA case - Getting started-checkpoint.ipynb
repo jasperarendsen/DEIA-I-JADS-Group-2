{
 "cells": [
  {
   "cell_type": "markdown",
   "metadata": {},
   "source": [
    "# Deloitte DEIA Case - Getting started  \n",
    "\n",
    "This Jupyter notebook contains code snippets to get you started with the data.  Note that you are free to experiment with other training methods.  However, to compare your results easily with the current results, make sure that you apply the same evaluation method (i.e. apply max-pooling) as this notebook.  \n",
    "\n",
    "Have fun!"
   ]
  },
  {
   "cell_type": "markdown",
   "metadata": {},
   "source": [
    "##### Import relevant packages"
   ]
  },
  {
   "cell_type": "code",
   "execution_count": 42,
   "metadata": {
    "scrolled": true
   },
   "outputs": [],
   "source": [
    "import glob\n",
    "import os\n",
    "\n",
    "import numpy as np\n",
    "import pandas as pd\n",
    "from scipy import stats\n",
    "from matplotlib import pyplot as plt\n",
    "import seaborn as sns\n",
    "\n",
    "\n",
    "from sklearn import preprocessing\n",
    "from sklearn.linear_model import LogisticRegression\n",
    "from sklearn.ensemble import RandomForestClassifier\n",
    "from sklearn.metrics import confusion_matrix, precision_recall_curve, plot_precision_recall_curve\n",
    "import matplotlib.pyplot as plt\n"
   ]
  },
  {
   "cell_type": "markdown",
   "metadata": {},
   "source": [
    "### 1. Train model"
   ]
  },
  {
   "cell_type": "markdown",
   "metadata": {},
   "source": [
    "#### 1.1 Load training data"
   ]
  },
  {
   "cell_type": "code",
   "execution_count": 43,
   "metadata": {},
   "outputs": [
    {
     "name": "stdout",
     "output_type": "stream",
     "text": [
      "Shape of train arr: (35, 5768728)\n",
      "Shape of subsetted train arr: (35, 100000)\n",
      "Training dataframe shown below. Note that every row represent a 15x15m pixel.\n"
     ]
    },
    {
     "data": {
      "text/html": [
       "<div>\n",
       "<style scoped>\n",
       "    .dataframe tbody tr th:only-of-type {\n",
       "        vertical-align: middle;\n",
       "    }\n",
       "\n",
       "    .dataframe tbody tr th {\n",
       "        vertical-align: top;\n",
       "    }\n",
       "\n",
       "    .dataframe thead th {\n",
       "        text-align: right;\n",
       "    }\n",
       "</style>\n",
       "<table border=\"1\" class=\"dataframe\">\n",
       "  <thead>\n",
       "    <tr style=\"text-align: right;\">\n",
       "      <th></th>\n",
       "      <th>AggIndex1</th>\n",
       "      <th>AggIndex2</th>\n",
       "      <th>AggIndex3</th>\n",
       "      <th>AggIndex4</th>\n",
       "      <th>AggIndex5</th>\n",
       "      <th>CoastlineDistance</th>\n",
       "      <th>CurrentMonth</th>\n",
       "      <th>EdgeDensity1</th>\n",
       "      <th>EdgeDensity2</th>\n",
       "      <th>EdgeDensity3</th>\n",
       "      <th>...</th>\n",
       "      <th>ShannonDiversity</th>\n",
       "      <th>UrbanicityDistance</th>\n",
       "      <th>Vegetype</th>\n",
       "      <th>WaterwaysDistance</th>\n",
       "      <th>current_deforestation_distance</th>\n",
       "      <th>current_degradation_distance</th>\n",
       "      <th>future_deforestation</th>\n",
       "      <th>gradientASTER</th>\n",
       "      <th>scaledASTER</th>\n",
       "      <th>scaledWorldPop</th>\n",
       "    </tr>\n",
       "  </thead>\n",
       "  <tbody>\n",
       "    <tr>\n",
       "      <th>0</th>\n",
       "      <td>0.998113</td>\n",
       "      <td>0.0</td>\n",
       "      <td>0.0</td>\n",
       "      <td>0.000000e+00</td>\n",
       "      <td>0.994043</td>\n",
       "      <td>0.758086</td>\n",
       "      <td>2.0</td>\n",
       "      <td>0.023289</td>\n",
       "      <td>0.0</td>\n",
       "      <td>0.0</td>\n",
       "      <td>...</td>\n",
       "      <td>0.024254</td>\n",
       "      <td>0.758086</td>\n",
       "      <td>1.0</td>\n",
       "      <td>0.110194</td>\n",
       "      <td>0.029134</td>\n",
       "      <td>0.758086</td>\n",
       "      <td>0.0</td>\n",
       "      <td>6.640631</td>\n",
       "      <td>988.149536</td>\n",
       "      <td>5.384419e-01</td>\n",
       "    </tr>\n",
       "    <tr>\n",
       "      <th>1</th>\n",
       "      <td>0.999815</td>\n",
       "      <td>0.0</td>\n",
       "      <td>0.0</td>\n",
       "      <td>-9.834501e-19</td>\n",
       "      <td>0.999314</td>\n",
       "      <td>0.513337</td>\n",
       "      <td>2.0</td>\n",
       "      <td>0.002707</td>\n",
       "      <td>0.0</td>\n",
       "      <td>0.0</td>\n",
       "      <td>...</td>\n",
       "      <td>0.003143</td>\n",
       "      <td>0.513337</td>\n",
       "      <td>1.0</td>\n",
       "      <td>0.093929</td>\n",
       "      <td>0.133348</td>\n",
       "      <td>0.513337</td>\n",
       "      <td>0.0</td>\n",
       "      <td>4.845877</td>\n",
       "      <td>1204.789062</td>\n",
       "      <td>5.320306e-01</td>\n",
       "    </tr>\n",
       "    <tr>\n",
       "      <th>2</th>\n",
       "      <td>0.992283</td>\n",
       "      <td>0.0</td>\n",
       "      <td>0.0</td>\n",
       "      <td>0.000000e+00</td>\n",
       "      <td>0.951019</td>\n",
       "      <td>0.494949</td>\n",
       "      <td>2.0</td>\n",
       "      <td>0.114160</td>\n",
       "      <td>0.0</td>\n",
       "      <td>0.0</td>\n",
       "      <td>...</td>\n",
       "      <td>0.152163</td>\n",
       "      <td>0.494949</td>\n",
       "      <td>1.0</td>\n",
       "      <td>0.000955</td>\n",
       "      <td>0.072080</td>\n",
       "      <td>0.494949</td>\n",
       "      <td>0.0</td>\n",
       "      <td>3.532176</td>\n",
       "      <td>562.746887</td>\n",
       "      <td>1.517564e+00</td>\n",
       "    </tr>\n",
       "    <tr>\n",
       "      <th>3</th>\n",
       "      <td>0.998393</td>\n",
       "      <td>0.0</td>\n",
       "      <td>0.0</td>\n",
       "      <td>0.000000e+00</td>\n",
       "      <td>0.993905</td>\n",
       "      <td>0.712519</td>\n",
       "      <td>2.0</td>\n",
       "      <td>0.021796</td>\n",
       "      <td>0.0</td>\n",
       "      <td>0.0</td>\n",
       "      <td>...</td>\n",
       "      <td>0.025943</td>\n",
       "      <td>0.712519</td>\n",
       "      <td>1.0</td>\n",
       "      <td>0.064870</td>\n",
       "      <td>0.072867</td>\n",
       "      <td>0.712519</td>\n",
       "      <td>0.0</td>\n",
       "      <td>5.881382</td>\n",
       "      <td>649.214844</td>\n",
       "      <td>4.755194e-01</td>\n",
       "    </tr>\n",
       "    <tr>\n",
       "      <th>4</th>\n",
       "      <td>0.999334</td>\n",
       "      <td>0.0</td>\n",
       "      <td>0.0</td>\n",
       "      <td>0.000000e+00</td>\n",
       "      <td>0.997253</td>\n",
       "      <td>0.567218</td>\n",
       "      <td>2.0</td>\n",
       "      <td>0.010412</td>\n",
       "      <td>0.0</td>\n",
       "      <td>0.0</td>\n",
       "      <td>...</td>\n",
       "      <td>0.012912</td>\n",
       "      <td>0.567218</td>\n",
       "      <td>1.0</td>\n",
       "      <td>0.055763</td>\n",
       "      <td>0.194268</td>\n",
       "      <td>0.567218</td>\n",
       "      <td>0.0</td>\n",
       "      <td>4.038354</td>\n",
       "      <td>1039.678223</td>\n",
       "      <td>4.759941e-01</td>\n",
       "    </tr>\n",
       "    <tr>\n",
       "      <th>...</th>\n",
       "      <td>...</td>\n",
       "      <td>...</td>\n",
       "      <td>...</td>\n",
       "      <td>...</td>\n",
       "      <td>...</td>\n",
       "      <td>...</td>\n",
       "      <td>...</td>\n",
       "      <td>...</td>\n",
       "      <td>...</td>\n",
       "      <td>...</td>\n",
       "      <td>...</td>\n",
       "      <td>...</td>\n",
       "      <td>...</td>\n",
       "      <td>...</td>\n",
       "      <td>...</td>\n",
       "      <td>...</td>\n",
       "      <td>...</td>\n",
       "      <td>...</td>\n",
       "      <td>...</td>\n",
       "      <td>...</td>\n",
       "      <td>...</td>\n",
       "    </tr>\n",
       "    <tr>\n",
       "      <th>99995</th>\n",
       "      <td>0.000000</td>\n",
       "      <td>0.0</td>\n",
       "      <td>0.0</td>\n",
       "      <td>0.000000e+00</td>\n",
       "      <td>0.000000</td>\n",
       "      <td>0.293870</td>\n",
       "      <td>7.0</td>\n",
       "      <td>0.000000</td>\n",
       "      <td>0.0</td>\n",
       "      <td>0.0</td>\n",
       "      <td>...</td>\n",
       "      <td>0.000000</td>\n",
       "      <td>0.589214</td>\n",
       "      <td>0.0</td>\n",
       "      <td>0.435807</td>\n",
       "      <td>0.373768</td>\n",
       "      <td>0.398678</td>\n",
       "      <td>0.0</td>\n",
       "      <td>0.000000</td>\n",
       "      <td>0.000000</td>\n",
       "      <td>-3.402823e+38</td>\n",
       "    </tr>\n",
       "    <tr>\n",
       "      <th>99996</th>\n",
       "      <td>0.000000</td>\n",
       "      <td>0.0</td>\n",
       "      <td>0.0</td>\n",
       "      <td>0.000000e+00</td>\n",
       "      <td>0.000000</td>\n",
       "      <td>0.062636</td>\n",
       "      <td>7.0</td>\n",
       "      <td>0.000000</td>\n",
       "      <td>0.0</td>\n",
       "      <td>0.0</td>\n",
       "      <td>...</td>\n",
       "      <td>0.000000</td>\n",
       "      <td>0.750813</td>\n",
       "      <td>0.0</td>\n",
       "      <td>0.199051</td>\n",
       "      <td>0.106365</td>\n",
       "      <td>0.144963</td>\n",
       "      <td>0.0</td>\n",
       "      <td>0.000000</td>\n",
       "      <td>0.000000</td>\n",
       "      <td>-3.402823e+38</td>\n",
       "    </tr>\n",
       "    <tr>\n",
       "      <th>99997</th>\n",
       "      <td>0.000000</td>\n",
       "      <td>0.0</td>\n",
       "      <td>0.0</td>\n",
       "      <td>0.000000e+00</td>\n",
       "      <td>0.000000</td>\n",
       "      <td>0.237423</td>\n",
       "      <td>7.0</td>\n",
       "      <td>0.000000</td>\n",
       "      <td>0.0</td>\n",
       "      <td>0.0</td>\n",
       "      <td>...</td>\n",
       "      <td>0.000000</td>\n",
       "      <td>0.370892</td>\n",
       "      <td>0.0</td>\n",
       "      <td>0.244901</td>\n",
       "      <td>0.248618</td>\n",
       "      <td>0.249274</td>\n",
       "      <td>0.0</td>\n",
       "      <td>0.000000</td>\n",
       "      <td>0.000000</td>\n",
       "      <td>-3.402823e+38</td>\n",
       "    </tr>\n",
       "    <tr>\n",
       "      <th>99998</th>\n",
       "      <td>0.000000</td>\n",
       "      <td>0.0</td>\n",
       "      <td>0.0</td>\n",
       "      <td>0.000000e+00</td>\n",
       "      <td>0.000000</td>\n",
       "      <td>0.280978</td>\n",
       "      <td>7.0</td>\n",
       "      <td>0.000000</td>\n",
       "      <td>0.0</td>\n",
       "      <td>0.0</td>\n",
       "      <td>...</td>\n",
       "      <td>0.000000</td>\n",
       "      <td>0.597843</td>\n",
       "      <td>0.0</td>\n",
       "      <td>0.475161</td>\n",
       "      <td>0.414685</td>\n",
       "      <td>0.439143</td>\n",
       "      <td>0.0</td>\n",
       "      <td>0.000000</td>\n",
       "      <td>0.000000</td>\n",
       "      <td>-3.402823e+38</td>\n",
       "    </tr>\n",
       "    <tr>\n",
       "      <th>99999</th>\n",
       "      <td>0.000000</td>\n",
       "      <td>0.0</td>\n",
       "      <td>0.0</td>\n",
       "      <td>0.000000e+00</td>\n",
       "      <td>0.000000</td>\n",
       "      <td>0.209017</td>\n",
       "      <td>7.0</td>\n",
       "      <td>0.000000</td>\n",
       "      <td>0.0</td>\n",
       "      <td>0.0</td>\n",
       "      <td>...</td>\n",
       "      <td>0.000000</td>\n",
       "      <td>0.304444</td>\n",
       "      <td>0.0</td>\n",
       "      <td>0.314450</td>\n",
       "      <td>0.293880</td>\n",
       "      <td>0.294685</td>\n",
       "      <td>0.0</td>\n",
       "      <td>0.000000</td>\n",
       "      <td>0.000000</td>\n",
       "      <td>-3.402823e+38</td>\n",
       "    </tr>\n",
       "  </tbody>\n",
       "</table>\n",
       "<p>100000 rows × 35 columns</p>\n",
       "</div>"
      ],
      "text/plain": [
       "       AggIndex1  AggIndex2  AggIndex3     AggIndex4  AggIndex5  \\\n",
       "0       0.998113        0.0        0.0  0.000000e+00   0.994043   \n",
       "1       0.999815        0.0        0.0 -9.834501e-19   0.999314   \n",
       "2       0.992283        0.0        0.0  0.000000e+00   0.951019   \n",
       "3       0.998393        0.0        0.0  0.000000e+00   0.993905   \n",
       "4       0.999334        0.0        0.0  0.000000e+00   0.997253   \n",
       "...          ...        ...        ...           ...        ...   \n",
       "99995   0.000000        0.0        0.0  0.000000e+00   0.000000   \n",
       "99996   0.000000        0.0        0.0  0.000000e+00   0.000000   \n",
       "99997   0.000000        0.0        0.0  0.000000e+00   0.000000   \n",
       "99998   0.000000        0.0        0.0  0.000000e+00   0.000000   \n",
       "99999   0.000000        0.0        0.0  0.000000e+00   0.000000   \n",
       "\n",
       "       CoastlineDistance  CurrentMonth  EdgeDensity1  EdgeDensity2  \\\n",
       "0               0.758086           2.0      0.023289           0.0   \n",
       "1               0.513337           2.0      0.002707           0.0   \n",
       "2               0.494949           2.0      0.114160           0.0   \n",
       "3               0.712519           2.0      0.021796           0.0   \n",
       "4               0.567218           2.0      0.010412           0.0   \n",
       "...                  ...           ...           ...           ...   \n",
       "99995           0.293870           7.0      0.000000           0.0   \n",
       "99996           0.062636           7.0      0.000000           0.0   \n",
       "99997           0.237423           7.0      0.000000           0.0   \n",
       "99998           0.280978           7.0      0.000000           0.0   \n",
       "99999           0.209017           7.0      0.000000           0.0   \n",
       "\n",
       "       EdgeDensity3  ...  ShannonDiversity  UrbanicityDistance  Vegetype  \\\n",
       "0               0.0  ...          0.024254            0.758086       1.0   \n",
       "1               0.0  ...          0.003143            0.513337       1.0   \n",
       "2               0.0  ...          0.152163            0.494949       1.0   \n",
       "3               0.0  ...          0.025943            0.712519       1.0   \n",
       "4               0.0  ...          0.012912            0.567218       1.0   \n",
       "...             ...  ...               ...                 ...       ...   \n",
       "99995           0.0  ...          0.000000            0.589214       0.0   \n",
       "99996           0.0  ...          0.000000            0.750813       0.0   \n",
       "99997           0.0  ...          0.000000            0.370892       0.0   \n",
       "99998           0.0  ...          0.000000            0.597843       0.0   \n",
       "99999           0.0  ...          0.000000            0.304444       0.0   \n",
       "\n",
       "       WaterwaysDistance  current_deforestation_distance  \\\n",
       "0               0.110194                        0.029134   \n",
       "1               0.093929                        0.133348   \n",
       "2               0.000955                        0.072080   \n",
       "3               0.064870                        0.072867   \n",
       "4               0.055763                        0.194268   \n",
       "...                  ...                             ...   \n",
       "99995           0.435807                        0.373768   \n",
       "99996           0.199051                        0.106365   \n",
       "99997           0.244901                        0.248618   \n",
       "99998           0.475161                        0.414685   \n",
       "99999           0.314450                        0.293880   \n",
       "\n",
       "       current_degradation_distance  future_deforestation  gradientASTER  \\\n",
       "0                          0.758086                   0.0       6.640631   \n",
       "1                          0.513337                   0.0       4.845877   \n",
       "2                          0.494949                   0.0       3.532176   \n",
       "3                          0.712519                   0.0       5.881382   \n",
       "4                          0.567218                   0.0       4.038354   \n",
       "...                             ...                   ...            ...   \n",
       "99995                      0.398678                   0.0       0.000000   \n",
       "99996                      0.144963                   0.0       0.000000   \n",
       "99997                      0.249274                   0.0       0.000000   \n",
       "99998                      0.439143                   0.0       0.000000   \n",
       "99999                      0.294685                   0.0       0.000000   \n",
       "\n",
       "       scaledASTER  scaledWorldPop  \n",
       "0       988.149536    5.384419e-01  \n",
       "1      1204.789062    5.320306e-01  \n",
       "2       562.746887    1.517564e+00  \n",
       "3       649.214844    4.755194e-01  \n",
       "4      1039.678223    4.759941e-01  \n",
       "...            ...             ...  \n",
       "99995     0.000000   -3.402823e+38  \n",
       "99996     0.000000   -3.402823e+38  \n",
       "99997     0.000000   -3.402823e+38  \n",
       "99998     0.000000   -3.402823e+38  \n",
       "99999     0.000000   -3.402823e+38  \n",
       "\n",
       "[100000 rows x 35 columns]"
      ]
     },
     "execution_count": 43,
     "metadata": {},
     "output_type": "execute_result"
    }
   ],
   "source": [
    "# Load training database\n",
    "path_training_db = \"./data/training_data/training_array_kalimantan.npy\"\n",
    "train_arr = np.load(path_training_db)\n",
    "print(\"Shape of train arr: %s\" % str(train_arr.shape))\n",
    "\n",
    "# We only take a small subset for this example\n",
    "train_arr = train_arr[:, :100000]\n",
    "print(\"Shape of subsetted train arr: %s\" % str(train_arr.shape))\n",
    "\n",
    "# For a column description, refer to attached Excel file\n",
    "train_cols = [\"AggIndex1\", \"AggIndex2\", \"AggIndex3\", \"AggIndex4\", \"AggIndex5\", \"CoastlineDistance\",\n",
    "        \"CurrentMonth\", \"EdgeDensity1\", \"EdgeDensity2\", \"EdgeDensity3\", \"EdgeDensity4\",\n",
    "        \"LandcoverPercentage1\", \"LandcoverPercentage2\", \"LandcoverPercentage3\", \n",
    "        \"LandcoverPercentage4\", \"LogRoadDistance\", \"PalmOilConcession\", \n",
    "        \"PalmOilMillsDistance\", \"PatchDensity1\", \"PatchDensity2\", \"PatchDensity3\", \n",
    "        \"PatchDensity4\", \"RawSarVisionClasses\", \"RoadsDistance\", \"SarvisionBasemap\", \n",
    "        \"ShannonDiversity\", \"UrbanicityDistance\", \"Vegetype\", \"WaterwaysDistance\", \n",
    "        \"current_deforestation_distance\", \"current_degradation_distance\", \"future_deforestation\", \n",
    "        \"gradientASTER\", \"scaledASTER\", \"scaledWorldPop\"]\n",
    "\n",
    "train_df = pd.DataFrame(train_arr.T, columns = train_cols)\n",
    "print(\"Training dataframe shown below. Note that every row represent a 15x15m pixel.\")\n",
    "train_df"
   ]
  },
  {
   "cell_type": "markdown",
   "metadata": {},
   "source": [
    "#### 1.2. Preprocess data"
   ]
  },
  {
   "cell_type": "code",
   "execution_count": 44,
   "metadata": {},
   "outputs": [
    {
     "name": "stdout",
     "output_type": "stream",
     "text": [
      "Dropped 1047 rows with NA\n"
     ]
    }
   ],
   "source": [
    "# Drop NA rows (note this is not needed for all classifiers)\n",
    "len_train_df = len(train_df)\n",
    "train_df = train_df.dropna()\n",
    "print(\"Dropped %s rows with NA\" % (len_train_df - len(train_df)))\n",
    "\n",
    "y_col = \"future_deforestation\"\n",
    "X_cols = [col for col in train_cols if col != y_col]\n",
    "X_train =  train_df[X_cols]\n",
    "y_train = train_df[y_col]\n",
    "\n",
    "# X_train = preprocessing.scale(X_train) # numerical issues\n",
    "scaler = preprocessing.StandardScaler()\n",
    "X_train = scaler.fit_transform(X_train)"
   ]
  },
  {
   "cell_type": "markdown",
   "metadata": {},
   "source": [
    "#### 1.3. Train model"
   ]
  },
  {
   "cell_type": "code",
   "execution_count": 45,
   "metadata": {},
   "outputs": [],
   "source": [
    "#model = LogisticRegression(max_iter=1000)\n",
    "model = RandomForestClassifier()\n",
    "model = model.fit(X_train, y_train)"
   ]
  },
  {
   "cell_type": "markdown",
   "metadata": {},
   "source": [
    "### 2. Validate model"
   ]
  },
  {
   "cell_type": "markdown",
   "metadata": {},
   "source": [
    "#### 2.1 Load validation data"
   ]
  },
  {
   "cell_type": "code",
   "execution_count": 46,
   "metadata": {},
   "outputs": [
    {
     "name": "stdout",
     "output_type": "stream",
     "text": [
      "WARNING: Dropping this tile because one of the pixel values is NA. Current i: 0\n",
      "WARNING: Dropping this tile because one of the pixel values is NA. Current i: 1\n",
      "WARNING: Dropping this tile because one of the pixel values is NA. Current i: 2\n",
      "WARNING: Dropping this tile because one of the pixel values is NA. Current i: 3\n",
      "WARNING: Dropping this tile because one of the pixel values is NA. Current i: 4\n",
      "WARNING: Dropping this tile because one of the pixel values is NA. Current i: 7\n"
     ]
    },
    {
     "data": {
      "text/plain": [
       "(37, 32, 5120)"
      ]
     },
     "execution_count": 46,
     "metadata": {},
     "output_type": "execute_result"
    }
   ],
   "source": [
    "# Load validation data\n",
    "#path_validation_data =\"./kalimantan/validation_hotzones/110.872E 0.111N 737254_hotzones.npy\"\n",
    "validation_data_files = glob.glob(\"./data/validation_hotzones/*.npy\")\n",
    "nr_tiles = 20\n",
    "\n",
    "# Iterate over hotzone arrays and concatenate data\n",
    "#    Note: we only take a few hotzones as an example\n",
    "val_arrs = []\n",
    "for i, path in enumerate(validation_data_files[:nr_tiles]):\n",
    "    arr = np.load(path)\n",
    "    # For simplicity sake we drop the hotzone array if one of the pixel values is NA (NOT RECOMMENDED)\n",
    "    if sum(np.isnan(arr.reshape(-1))) > 0:\n",
    "        print(\"WARNING: Dropping this tile because one of the pixel values is NA. Current i: %s\" % i)\n",
    "        continue\n",
    "    else:\n",
    "        val_arrs.append(arr)\n",
    "    \n",
    "\n",
    "\n",
    "val_arr = np.dstack(val_arrs)\n",
    "val_cols = [\"AggIndex1\", \"AggIndex2\", \"AggIndex3\", \"AggIndex4\", \"AggIndex5\", \"CoastlineDistance\",\n",
    "        \"CurrentMonth\", \"EdgeDensity1\", \"EdgeDensity2\", \"EdgeDensity3\", \"EdgeDensity4\",\n",
    "        \"LandcoverPercentage1\", \"LandcoverPercentage2\", \"LandcoverPercentage3\", \"LandcoverPercentage4\",\n",
    "        \"LogRoadDistance\", \"PalmOilConcession\", \"PalmOilMillsDistance\", \"PatchDensity1\", \"PatchDensity2\", \n",
    "        \"PatchDensity3\", \"PatchDensity4\", \"RawSarVisionClasses\", \"RoadsDistance\", \"SarvisionBasemap\",\n",
    "        \"ShannonDiversity\", \"UrbanicityDistance\", \"Vegetype\", \"WaterwaysDistance\", \n",
    "        \"current_deforestation_distance\", \"current_degradation_distance\", \"future_deforestation\", \n",
    "        \"gradientASTER\", \"scaledASTER\", \"scaledWorldPop\", \"RelativeXPoint\", \"RelativeYPoint\"]\n",
    "val_arr.shape"
   ]
  },
  {
   "cell_type": "code",
   "execution_count": 126,
   "metadata": {},
   "outputs": [
    {
     "ename": "AttributeError",
     "evalue": "'numpy.ndarray' object has no attribute 'variables'",
     "output_type": "error",
     "traceback": [
      "\u001b[1;31m---------------------------------------------------------------------------\u001b[0m",
      "\u001b[1;31mAttributeError\u001b[0m                            Traceback (most recent call last)",
      "\u001b[1;32m<ipython-input-126-e67152862d41>\u001b[0m in \u001b[0;36m<module>\u001b[1;34m\u001b[0m\n\u001b[0;32m      1\u001b[0m \u001b[0mval_arr\u001b[0m\u001b[1;33m.\u001b[0m\u001b[0mshape\u001b[0m\u001b[1;33m\u001b[0m\u001b[1;33m\u001b[0m\u001b[0m\n\u001b[0;32m      2\u001b[0m \u001b[0mX_test\u001b[0m \u001b[1;33m=\u001b[0m \u001b[0mval_arr\u001b[0m\u001b[1;33m[\u001b[0m\u001b[0mX_idx\u001b[0m\u001b[1;33m,\u001b[0m \u001b[1;33m:\u001b[0m\u001b[1;33m,\u001b[0m \u001b[1;33m:\u001b[0m\u001b[1;33m]\u001b[0m\u001b[1;33m\u001b[0m\u001b[1;33m\u001b[0m\u001b[0m\n\u001b[1;32m----> 3\u001b[1;33m X = np.dstack([X_test[i].variables['analysed_sst'][0] \n\u001b[0m\u001b[0;32m      4\u001b[0m         for i in range(0,140)])\n\u001b[0;32m      5\u001b[0m \u001b[1;33m\u001b[0m\u001b[0m\n",
      "\u001b[1;32m<ipython-input-126-e67152862d41>\u001b[0m in \u001b[0;36m<listcomp>\u001b[1;34m(.0)\u001b[0m\n\u001b[0;32m      1\u001b[0m \u001b[0mval_arr\u001b[0m\u001b[1;33m.\u001b[0m\u001b[0mshape\u001b[0m\u001b[1;33m\u001b[0m\u001b[1;33m\u001b[0m\u001b[0m\n\u001b[0;32m      2\u001b[0m \u001b[0mX_test\u001b[0m \u001b[1;33m=\u001b[0m \u001b[0mval_arr\u001b[0m\u001b[1;33m[\u001b[0m\u001b[0mX_idx\u001b[0m\u001b[1;33m,\u001b[0m \u001b[1;33m:\u001b[0m\u001b[1;33m,\u001b[0m \u001b[1;33m:\u001b[0m\u001b[1;33m]\u001b[0m\u001b[1;33m\u001b[0m\u001b[1;33m\u001b[0m\u001b[0m\n\u001b[1;32m----> 3\u001b[1;33m X = np.dstack([X_test[i].variables['analysed_sst'][0] \n\u001b[0m\u001b[0;32m      4\u001b[0m         for i in range(0,140)])\n\u001b[0;32m      5\u001b[0m \u001b[1;33m\u001b[0m\u001b[0m\n",
      "\u001b[1;31mAttributeError\u001b[0m: 'numpy.ndarray' object has no attribute 'variables'"
     ]
    }
   ],
   "source": [
    "val_arr.shape\n",
    "X_test = val_arr[X_idx, :, :]\n",
    "X = np.dstack([X_test[i].variables['analysed_sst'][0] \n",
    "        for i in range(0,140)])\n",
    "\n",
    "df"
   ]
  },
  {
   "cell_type": "markdown",
   "metadata": {},
   "source": [
    "###### Example hotzone array"
   ]
  },
  {
   "cell_type": "markdown",
   "metadata": {},
   "source": [
    "A hotzone describes a 32x32 pixels area.  \n",
    "One validation hotzone array consists of 20 hotzones underneath each other, describing the x and y value for every variable/column.  \n",
    "\n",
    "See below for a graphical explanation. \n",
    "\n",
    "The diagram below shows a graphical representation of the 'future_deforestation' column. On the y-axis you can see 10 hotzones (next to each other, seperated by a black vertical line). Every 32x32 square describes one randomly sampled hotzone from the tile."
   ]
  },
  {
   "cell_type": "code",
   "execution_count": 47,
   "metadata": {},
   "outputs": [
    {
     "name": "stdout",
     "output_type": "stream",
     "text": [
      "Feature (31): future_deforestation, shape: (32, 320)\n"
     ]
    },
    {
     "data": {
      "image/png": "[encoded data removed]",
      "text/plain": [
       "<Figure size 432x288 with 1 Axes>"
      ]
     },
     "metadata": {
      "needs_background": "light"
     },
     "output_type": "display_data"
    }
   ],
   "source": [
    "example_data =\"./data/validation_hotzones/109.672E 0.911N 737254_hotzones.npy\"\n",
    "example_arr = np.load(example_data)\n",
    "\n",
    "future_def_col_idx = val_cols.index('future_deforestation')\n",
    "rel_arr = example_arr[31, :, :32*10]  # we select 10 hotzones \n",
    "lines = np.arange(0, rel_arr.shape[1] , 32) # used for graph\n",
    "print(\"Feature (%s): %s, shape: %s\" % (future_def_col_idx, val_cols[future_def_col_idx], rel_arr.shape))\n",
    "plt.imshow(rel_arr.T, interpolation='nearest')\n",
    "for coord in lines:\n",
    "    plt.axhline(y=coord, color='black')\n",
    "plt.show()"
   ]
  },
  {
   "cell_type": "markdown",
   "metadata": {},
   "source": [
    "#### 2.3 Test model"
   ]
  },
  {
   "cell_type": "code",
   "execution_count": 127,
   "metadata": {},
   "outputs": [],
   "source": [
    "import copy\n",
    "X_idx = [i for i, col in enumerate(val_cols) if col != 'future_deforestation' and col in train_cols]\n",
    "y_idx = val_cols.index('future_deforestation')\n",
    "dim = val_arr.shape\n",
    "\n",
    "val_arr_flat = val_arr.reshape((dim[0], dim[1] * dim[2])).T\n",
    "X_test = val_arr_flat[:, X_idx]\n",
    "X_test = scaler.transform(X_test) # used in training\n",
    "y_actual = val_arr[y_idx, :, :]\n",
    "X_new = X_test.reshape(34, dim[1], dim[2])\n",
    "\n",
    "y_pred = model.predict(X_test)\n",
    "y_pred = y_pred.reshape(dim[1], dim[2])\n",
    "\n",
    "y_proba = model.predict_proba(X_test)[:, 1] # class 1 is relevant\n",
    "y_new = y_proba.copy()\n",
    "y_proba = y_proba.reshape(dim[1], dim[2])"
   ]
  },
  {
   "cell_type": "code",
   "execution_count": 142,
   "metadata": {},
   "outputs": [
    {
     "ename": "IndexError",
     "evalue": "index 163840 is out of bounds for axis 0 with size 163840",
     "output_type": "error",
     "traceback": [
      "\u001b[1;31m---------------------------------------------------------------------------\u001b[0m",
      "\u001b[1;31mIndexError\u001b[0m                                Traceback (most recent call last)",
      "\u001b[1;32m<ipython-input-142-b5d7b2fca5f2>\u001b[0m in \u001b[0;36m<module>\u001b[1;34m\u001b[0m\n\u001b[1;32m----> 1\u001b[1;33m \u001b[0mres\u001b[0m \u001b[1;33m=\u001b[0m \u001b[1;33m[\u001b[0m\u001b[0mnp\u001b[0m\u001b[1;33m.\u001b[0m\u001b[0mmean\u001b[0m\u001b[1;33m(\u001b[0m\u001b[0mX_test\u001b[0m\u001b[1;33m[\u001b[0m\u001b[0mi\u001b[0m\u001b[1;33m]\u001b[0m\u001b[1;33m)\u001b[0m \u001b[1;32mfor\u001b[0m \u001b[0mi\u001b[0m \u001b[1;32min\u001b[0m \u001b[0mrange\u001b[0m\u001b[1;33m(\u001b[0m\u001b[1;36m1\u001b[0m\u001b[1;33m,\u001b[0m\u001b[0mlen\u001b[0m\u001b[1;33m(\u001b[0m\u001b[0mX_test\u001b[0m\u001b[1;33m)\u001b[0m \u001b[1;33m+\u001b[0m \u001b[1;36m1\u001b[0m\u001b[1;33m)\u001b[0m \u001b[1;32mif\u001b[0m \u001b[0mi\u001b[0m \u001b[1;33m%\u001b[0m \u001b[1;36m1024\u001b[0m \u001b[1;33m==\u001b[0m \u001b[1;36m0\u001b[0m\u001b[1;33m]\u001b[0m\u001b[1;33m\u001b[0m\u001b[1;33m\u001b[0m\u001b[0m\n\u001b[0m\u001b[0;32m      2\u001b[0m \u001b[0mres\u001b[0m\u001b[1;33m\u001b[0m\u001b[1;33m\u001b[0m\u001b[0m\n",
      "\u001b[1;32m<ipython-input-142-b5d7b2fca5f2>\u001b[0m in \u001b[0;36m<listcomp>\u001b[1;34m(.0)\u001b[0m\n\u001b[1;32m----> 1\u001b[1;33m \u001b[0mres\u001b[0m \u001b[1;33m=\u001b[0m \u001b[1;33m[\u001b[0m\u001b[0mnp\u001b[0m\u001b[1;33m.\u001b[0m\u001b[0mmean\u001b[0m\u001b[1;33m(\u001b[0m\u001b[0mX_test\u001b[0m\u001b[1;33m[\u001b[0m\u001b[0mi\u001b[0m\u001b[1;33m]\u001b[0m\u001b[1;33m)\u001b[0m \u001b[1;32mfor\u001b[0m \u001b[0mi\u001b[0m \u001b[1;32min\u001b[0m \u001b[0mrange\u001b[0m\u001b[1;33m(\u001b[0m\u001b[1;36m1\u001b[0m\u001b[1;33m,\u001b[0m\u001b[0mlen\u001b[0m\u001b[1;33m(\u001b[0m\u001b[0mX_test\u001b[0m\u001b[1;33m)\u001b[0m \u001b[1;33m+\u001b[0m \u001b[1;36m1\u001b[0m\u001b[1;33m)\u001b[0m \u001b[1;32mif\u001b[0m \u001b[0mi\u001b[0m \u001b[1;33m%\u001b[0m \u001b[1;36m1024\u001b[0m \u001b[1;33m==\u001b[0m \u001b[1;36m0\u001b[0m\u001b[1;33m]\u001b[0m\u001b[1;33m\u001b[0m\u001b[1;33m\u001b[0m\u001b[0m\n\u001b[0m\u001b[0;32m      2\u001b[0m \u001b[0mres\u001b[0m\u001b[1;33m\u001b[0m\u001b[1;33m\u001b[0m\u001b[0m\n",
      "\u001b[1;31mIndexError\u001b[0m: index 163840 is out of bounds for axis 0 with size 163840"
     ]
    }
   ],
   "source": [
    "res = [np.mean(X_test[i]) for i in range(1,len(X_test) + 1) if i % 1024 == 0]\n",
    "res"
   ]
  },
  {
   "cell_type": "code",
   "execution_count": 108,
   "metadata": {},
   "outputs": [
    {
     "data": {
      "text/plain": [
       "[-3.8051384743241723,\n",
       " -1.0679441544809278,\n",
       " -0.7338215919318193,\n",
       " -0.10224714344968407,\n",
       " -1.9775976773230537,\n",
       " -1.6489285273360044,\n",
       " 0.3413390076168783,\n",
       " -1.4237510870566767,\n",
       " -0.5971332089850695,\n",
       " -0.4645624445005765,\n",
       " -0.095431881996893,\n",
       " -1.925485141182232,\n",
       " -0.5054336499380505,\n",
       " -0.41083469029513087,\n",
       " -0.080439303765766,\n",
       " -0.1777179989992364,\n",
       " -0.43068758219731357,\n",
       " -0.6188477623369412,\n",
       " -0.6838505206371664,\n",
       " -0.7629461918666528,\n",
       " -0.4772732129726655,\n",
       " -0.1026549558031056,\n",
       " 1.9511433168644956,\n",
       " 0.8447943219094988,\n",
       " 2.217493462968005,\n",
       " -1.465842669356625,\n",
       " -0.23155079773308623,\n",
       " -3.373419253930546,\n",
       " 0.8087358704239864,\n",
       " 0.096441165712369,\n",
       " 0.17445801988033807,\n",
       " -1.7014405451689025,\n",
       " -0.6213435029228432,\n",
       " -3.9582190176111327]"
      ]
     },
     "execution_count": 108,
     "metadata": {},
     "output_type": "execute_result"
    }
   ],
   "source": [
    "X_test.tolist()[0]"
   ]
  },
  {
   "cell_type": "code",
   "execution_count": 88,
   "metadata": {},
   "outputs": [
    {
     "name": "stdout",
     "output_type": "stream",
     "text": [
      "160.0\n"
     ]
    }
   ],
   "source": [
    "print(5120/32)"
   ]
  },
  {
   "cell_type": "code",
   "execution_count": 94,
   "metadata": {},
   "outputs": [
    {
     "data": {
      "text/plain": [
       "array([-3.80513847, -1.06794415, -0.73382159, -0.10224714, -1.97759768,\n",
       "       -1.64951924,  0.34133901, -1.42375109, -0.59713321, -0.46456244,\n",
       "       -0.09543188, -1.92548514, -0.50543365, -0.41083469, -0.0804393 ,\n",
       "       -0.17876595, -0.43068758, -0.61951928, -0.68385052, -0.76294619,\n",
       "       -0.47727321, -0.10265496,  1.95114332,  0.84312382,  2.21749346,\n",
       "       -1.46584267, -0.23200426, -3.37341925,  0.80657345,  0.09550825,\n",
       "        0.17340878, -1.70144055, -0.6213435 , -3.95821902])"
      ]
     },
     "execution_count": 94,
     "metadata": {},
     "output_type": "execute_result"
    }
   ],
   "source": [
    "X_test[1]"
   ]
  },
  {
   "cell_type": "markdown",
   "metadata": {},
   "source": [
    "#### 2.4 Apply max-pooling  \n",
    "Because performance is low at pixel-level, we aggregate predictions by max-pooling these. See example below"
   ]
  },
  {
   "cell_type": "code",
   "execution_count": 183,
   "metadata": {},
   "outputs": [
    {
     "name": "stdout",
     "output_type": "stream",
     "text": [
      "Shape of y_pred max pooled: (1, 160)\n",
      "Shape of y_actual max pooled: (1, 160)\n"
     ]
    }
   ],
   "source": [
    "def max_pool_predictions(mat):\n",
    "    \"\"\"\n",
    "    Applies the max-pooling step.\n",
    "    This is done by reshaping into an intermediate 4D tensor,\n",
    "    then taking the maxima along the new axes representing\n",
    "    each grid.\n",
    "\n",
    "    Args:\n",
    "        mat: A float32 NumPy array of dimensions (height, width)\n",
    "\n",
    "    Returns:\n",
    "        A float32 NumPy array of dimensions (height/k_size, width/k_size)\n",
    "    \"\"\"\n",
    "    k_size = 32 # 32 pixels = 480 meters\n",
    "    m, n = mat.shape[:2]\n",
    "    _ceil = lambda x, y: int(np.ceil(x / float(y)))\n",
    "    ny = _ceil(m, k_size)\n",
    "    nx = _ceil(n, k_size)\n",
    "    size = (ny * k_size, nx * k_size)\n",
    "    mat_pad = np.full(size, np.nan)\n",
    "    mat_pad[:m, :n, ...] = mat\n",
    "    if np.all(np.isnan(mat_pad)):\n",
    "        return np.nan\n",
    "    new_shape = (ny, k_size, nx, k_size)\n",
    "    return np.nanmax(mat_pad.reshape(new_shape), axis=(1, 3))\n",
    "\n",
    "# Returns an array with one prediction per hotzone (thus in this example 10 hotzones)\n",
    "y_pred_max_pooled = max_pool_predictions(y_pred)\n",
    "print(\"Shape of y_pred max pooled: %s\" % str(y_pred_max_pooled.shape))\n",
    "\n",
    "y_actual_max_pooled = max_pool_predictions(y_actual)\n",
    "print(\"Shape of y_actual max pooled: %s\" % str(y_actual_max_pooled.shape))\n",
    "\n",
    "y_proba_max_pooled = max_pool_predictions(y_proba)"
   ]
  },
  {
   "cell_type": "code",
   "execution_count": 87,
   "metadata": {},
   "outputs": [
    {
     "data": {
      "text/plain": [
       "array([[0.  , 0.  , 0.  , 0.  , 0.02, 0.88, 0.01, 0.  , 0.  , 0.01, 0.5 ,\n",
       "        0.94, 0.95, 0.49, 0.76, 0.52, 0.97, 0.41, 0.63, 0.64, 0.76, 0.62,\n",
       "        0.65, 0.65, 0.53, 0.99, 0.4 , 0.75, 0.93, 0.96, 1.  , 0.7 , 0.69,\n",
       "        0.91, 0.83, 0.59, 0.64, 0.81, 0.44, 0.83, 0.02, 0.01, 0.46, 0.96,\n",
       "        0.96, 0.96, 0.75, 0.61, 0.59, 0.85, 0.8 , 0.68, 0.73, 0.02, 0.95,\n",
       "        0.02, 0.95, 0.58, 0.66, 0.81, 0.52, 0.7 , 0.67, 0.71, 0.62, 0.46,\n",
       "        0.43, 0.67, 0.91, 0.79, 0.91, 0.88, 0.96, 0.96, 0.78, 0.8 , 0.97,\n",
       "        0.55, 0.66, 0.8 , 0.73, 0.8 , 0.97, 0.95, 0.82, 0.97, 0.77, 0.62,\n",
       "        0.62, 0.68, 0.75, 1.  , 0.53, 0.6 , 0.82, 0.78, 0.01, 0.57, 0.12,\n",
       "        0.8 , 0.85, 0.92, 0.75, 0.79, 0.81, 0.89, 0.67, 0.85, 0.81, 0.5 ,\n",
       "        0.62, 0.76, 0.52, 0.82, 0.87, 0.5 , 0.61, 0.93, 0.48, 0.01, 0.56,\n",
       "        0.94, 0.93, 0.75, 0.67, 0.74, 0.58, 0.91, 0.86, 0.91, 0.88, 0.66,\n",
       "        0.81, 0.85, 0.5 , 0.7 , 0.94, 0.85, 0.91, 0.95, 0.  , 0.  , 0.  ,\n",
       "        0.  , 0.  , 0.02, 0.55, 0.81, 0.33, 0.52, 0.47, 0.99, 0.66, 0.47,\n",
       "        0.54, 0.01, 0.  , 0.  , 0.  , 0.  ]])"
      ]
     },
     "execution_count": 87,
     "metadata": {},
     "output_type": "execute_result"
    }
   ],
   "source": [
    "\n",
    "y_proba_max_pooled"
   ]
  },
  {
   "cell_type": "markdown",
   "metadata": {},
   "source": [
    "#### 2.5 Evaluate model"
   ]
  },
  {
   "cell_type": "code",
   "execution_count": 14,
   "metadata": {},
   "outputs": [
    {
     "name": "stdout",
     "output_type": "stream",
     "text": [
      "Number of predicted deforestation: [118.]\n",
      "Number of actual deforestation : [38.]\n"
     ]
    },
    {
     "data": {
      "text/plain": [
       "array([[41, 81],\n",
       "       [ 1, 37]], dtype=int64)"
      ]
     },
     "execution_count": 14,
     "metadata": {},
     "output_type": "execute_result"
    }
   ],
   "source": [
    "print(\"Number of predicted deforestation: %s\" % sum(y_pred_max_pooled.T))\n",
    "print(\"Number of actual deforestation : %s\" % sum(y_actual_max_pooled.T))\n",
    "\n",
    "conf_matrix = confusion_matrix(y_actual_max_pooled.T, y_pred_max_pooled.T)\n",
    "conf_matrix"
   ]
  },
  {
   "cell_type": "code",
   "execution_count": 15,
   "metadata": {},
   "outputs": [
    {
     "data": {
      "text/plain": [
       "Text(0, 0.5, 'Precision')"
      ]
     },
     "execution_count": 15,
     "metadata": {},
     "output_type": "execute_result"
    },
    {
     "data": {
      "image/png": "[encoded data removed]",
      "text/plain": [
       "<Figure size 432x288 with 1 Axes>"
      ]
     },
     "metadata": {
      "needs_background": "light"
     },
     "output_type": "display_data"
    }
   ],
   "source": [
    "precision, recall, thresholds = precision_recall_curve(y_actual_max_pooled.T, y_proba_max_pooled.T)\n",
    "\n",
    "plt.plot(recall, precision, marker='.', label='Logistic')\n",
    "plt.xlabel('Recall')\n",
    "plt.ylabel('Precision')"
   ]
  },
  {
   "cell_type": "code",
   "execution_count": 215,
   "metadata": {},
   "outputs": [
    {
     "data": {
      "text/plain": [
       "['AggIndex1',\n",
       " 'AggIndex2',\n",
       " 'AggIndex3',\n",
       " 'AggIndex4',\n",
       " 'AggIndex5',\n",
       " 'CoastlineDistance',\n",
       " 'CurrentMonth',\n",
       " 'EdgeDensity1',\n",
       " 'EdgeDensity2',\n",
       " 'EdgeDensity3',\n",
       " 'EdgeDensity4',\n",
       " 'LandcoverPercentage1',\n",
       " 'LandcoverPercentage2',\n",
       " 'LandcoverPercentage3',\n",
       " 'LandcoverPercentage4',\n",
       " 'LogRoadDistance',\n",
       " 'PalmOilConcession',\n",
       " 'PalmOilMillsDistance',\n",
       " 'PatchDensity1',\n",
       " 'PatchDensity2',\n",
       " 'PatchDensity3',\n",
       " 'PatchDensity4',\n",
       " 'RawSarVisionClasses',\n",
       " 'RoadsDistance',\n",
       " 'SarvisionBasemap',\n",
       " 'ShannonDiversity',\n",
       " 'UrbanicityDistance',\n",
       " 'Vegetype',\n",
       " 'WaterwaysDistance',\n",
       " 'current_deforestation_distance',\n",
       " 'current_degradation_distance',\n",
       " 'future_deforestation',\n",
       " 'gradientASTER',\n",
       " 'scaledASTER']"
      ]
     },
     "execution_count": 215,
     "metadata": {},
     "output_type": "execute_result"
    }
   ],
   "source": [
    "def random_list():\n",
    "    arr = np.random.uniform(0,1, size=(34))\n",
    "    return arr\n",
    "\n",
    "variable = random_list()\n",
    "columns = val_cols[0:34]\n",
    "columns"
   ]
  },
  {
   "cell_type": "code",
   "execution_count": 231,
   "metadata": {},
   "outputs": [],
   "source": [
    "from io import BytesIO\n",
    "import pandas as pd\n",
    "import requests\n",
    "def read_survey():\n",
    "    r = requests.get('https://docs.google.com/spreadsheet/ccc?key=1BJJ3YPbbMzmbtaBbtYoM0nhr1egHwrrhUvVzQYExyIY&output=csv')\n",
    "    data = r.content\n",
    "    df = pd.read_csv(BytesIO(data))\n",
    "    df.columns = ['timestamp', 'RoadsDistance', 'UrbanicityDistance', 'PalmOilConcession']\n",
    "    df = df[df.columns[1:]]\n",
    "    return df\n",
    "\n",
    "def last_answer():\n",
    "    df = read_survey()\n",
    "    df = df.iloc[-1:]\n",
    "    return df"
   ]
  },
  {
   "cell_type": "code",
   "execution_count": 232,
   "metadata": {},
   "outputs": [
    {
     "data": {
      "text/plain": [
       "2.0"
      ]
     },
     "execution_count": 232,
     "metadata": {},
     "output_type": "execute_result"
    }
   ],
   "source": [
    "df = last_answer()\n",
    "df\n",
    "mean = np.mean(df.iloc[0].values)\n",
    "mean"
   ]
  },
  {
   "cell_type": "code",
   "execution_count": 233,
   "metadata": {},
   "outputs": [],
   "source": [
    "prediction = y_proba_max_pooled.tolist()[0][42]"
   ]
  },
  {
   "cell_type": "code",
   "execution_count": 234,
   "metadata": {},
   "outputs": [
    {
     "data": {
      "text/plain": [
       "Index(['AggIndex1', 'AggIndex2', 'AggIndex3', 'AggIndex4', 'AggIndex5',\n",
       "       'CoastlineDistance', 'CurrentMonth', 'EdgeDensity1', 'EdgeDensity2',\n",
       "       'EdgeDensity3', 'EdgeDensity4', 'LandcoverPercentage1',\n",
       "       'LandcoverPercentage2', 'LandcoverPercentage3', 'LandcoverPercentage4',\n",
       "       'LogRoadDistance', 'PalmOilConcession', 'PalmOilMillsDistance',\n",
       "       'PatchDensity1', 'PatchDensity2', 'PatchDensity3', 'PatchDensity4',\n",
       "       'RawSarVisionClasses', 'RoadsDistance', 'SarvisionBasemap',\n",
       "       'ShannonDiversity', 'UrbanicityDistance', 'Vegetype',\n",
       "       'WaterwaysDistance', 'current_deforestation_distance',\n",
       "       'current_degradation_distance', 'future_deforestation', 'gradientASTER',\n",
       "       'scaledASTER'],\n",
       "      dtype='object')"
      ]
     },
     "execution_count": 234,
     "metadata": {},
     "output_type": "execute_result"
    }
   ],
   "source": [
    "dataframe = pd.DataFrame([variable.tolist()], columns=columns)\n",
    "dataframe.columns"
   ]
  },
  {
   "cell_type": "code",
   "execution_count": 235,
   "metadata": {},
   "outputs": [
    {
     "data": {
      "text/plain": [
       "0    0.87773\n",
       "Name: RoadsDistance, dtype: float64"
      ]
     },
     "execution_count": 235,
     "metadata": {},
     "output_type": "execute_result"
    }
   ],
   "source": [
    "dataframe['RoadsDistance']"
   ]
  },
  {
   "cell_type": "code",
   "execution_count": 239,
   "metadata": {},
   "outputs": [
    {
     "data": {
      "text/plain": [
       "array([15.26850738])"
      ]
     },
     "execution_count": 239,
     "metadata": {},
     "output_type": "execute_result"
    }
   ],
   "source": [
    "same_columns = [i for i in df.columns if i in dataframe.columns]\n",
    "answer = sum([df[i].values*dataframe[i].values*prediction if i in same_columns else mean*dataframe[i].values*prediction for i in dataframe.columns])\n",
    "answer\n",
    "\n",
    "#[x+1 if x >= 45 else x+5 for x in l]"
   ]
  }
 ],
 "metadata": {
  "kernelspec": {
   "display_name": "Python 3",
   "language": "python",
   "name": "python3"
  },
  "language_info": {
   "codemirror_mode": {
    "name": "ipython",
    "version": 3
   },
   "file_extension": ".py",
   "mimetype": "text/x-python",
   "name": "python",
   "nbconvert_exporter": "python",
   "pygments_lexer": "ipython3",
   "version": "3.8.3"
  }
 },
 "nbformat": 4,
 "nbformat_minor": 4
}
