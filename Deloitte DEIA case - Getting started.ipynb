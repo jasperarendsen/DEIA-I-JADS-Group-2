{
 "cells": [
  {
   "cell_type": "markdown",
   "metadata": {},
   "source": [
    "# Deloitte DEIA Case - Getting started  \n",
    "\n",
    "This Jupyter notebook contains code snippets to get you started with the data.  Note that you are free to experiment with other training methods.  However, to compare your results easily with the current results, make sure that you apply the same evaluation method (i.e. apply max-pooling) as this notebook.  \n",
    "\n",
    "Have fun!"
   ]
  },
  {
   "cell_type": "markdown",
   "metadata": {},
   "source": [
    "##### Import relevant packages"
   ]
  },
  {
   "cell_type": "code",
   "execution_count": 1,
   "metadata": {
    "scrolled": true
   },
   "outputs": [],
   "source": [
    "import glob\n",
    "import os\n",
    "\n",
    "import numpy as np\n",
    "import pandas as pd\n",
    "from scipy import stats\n",
    "from matplotlib import pyplot as plt\n",
    "import seaborn as sns\n",
    "\n",
    "from sklearn import preprocessing\n",
    "from sklearn.linear_model import LogisticRegression\n",
    "from sklearn.ensemble import RandomForestClassifier\n",
    "from sklearn.metrics import confusion_matrix, precision_recall_curve, plot_precision_recall_curve\n",
    "import matplotlib.pyplot as plt\n",
    "from io import BytesIO\n",
    "import requests\n",
    "import statistics as st\n",
    "import itertools"
   ]
  },
  {
   "cell_type": "markdown",
   "metadata": {},
   "source": [
    "### 1. Train model"
   ]
  },
  {
   "cell_type": "markdown",
   "metadata": {},
   "source": [
    "#### 1.1 Load training data"
   ]
  },
  {
   "cell_type": "code",
   "execution_count": 2,
   "metadata": {},
   "outputs": [
    {
     "name": "stdout",
     "output_type": "stream",
     "text": [
      "Shape of train arr: (35, 5768728)\n",
      "Shape of subsetted train arr: (35, 100000)\n",
      "Training dataframe shown below. Note that every row represent a 15x15m pixel.\n"
     ]
    },
    {
     "data": {
      "text/plain": [
       "Index(['AggIndex1', 'AggIndex2', 'AggIndex3', 'AggIndex4', 'AggIndex5',\n",
       "       'CoastlineDistance', 'CurrentMonth', 'EdgeDensity1', 'EdgeDensity2',\n",
       "       'EdgeDensity3', 'EdgeDensity4', 'LandcoverPercentage1',\n",
       "       'LandcoverPercentage2', 'LandcoverPercentage3', 'LandcoverPercentage4',\n",
       "       'LogRoadDistance', 'PalmOilConcession', 'PalmOilMillsDistance',\n",
       "       'PatchDensity1', 'PatchDensity2', 'PatchDensity3', 'PatchDensity4',\n",
       "       'RawSarVisionClasses', 'RoadsDistance', 'SarvisionBasemap',\n",
       "       'ShannonDiversity', 'UrbanicityDistance', 'Vegetype',\n",
       "       'WaterwaysDistance', 'current_deforestation_distance',\n",
       "       'current_degradation_distance', 'future_deforestation', 'gradientASTER',\n",
       "       'scaledASTER', 'scaledWorldPop'],\n",
       "      dtype='object')"
      ]
     },
     "execution_count": 2,
     "metadata": {},
     "output_type": "execute_result"
    }
   ],
   "source": [
    "# Load training database\n",
    "path_training_db = \"./data/training_data/training_array_kalimantan.npy\"\n",
    "train_arr = np.load(path_training_db)\n",
    "print(\"Shape of train arr: %s\" % str(train_arr.shape))\n",
    "\n",
    "# We only take a small subset for this example\n",
    "train_arr = train_arr[:, :100000]\n",
    "print(\"Shape of subsetted train arr: %s\" % str(train_arr.shape))\n",
    "\n",
    "# For a column description, refer to attached Excel file\n",
    "train_cols = [\"AggIndex1\", \"AggIndex2\", \"AggIndex3\", \"AggIndex4\", \"AggIndex5\", \"CoastlineDistance\",\n",
    "        \"CurrentMonth\", \"EdgeDensity1\", \"EdgeDensity2\", \"EdgeDensity3\", \"EdgeDensity4\",\n",
    "        \"LandcoverPercentage1\", \"LandcoverPercentage2\", \"LandcoverPercentage3\", \n",
    "        \"LandcoverPercentage4\", \"LogRoadDistance\", \"PalmOilConcession\", \n",
    "        \"PalmOilMillsDistance\", \"PatchDensity1\", \"PatchDensity2\", \"PatchDensity3\", \n",
    "        \"PatchDensity4\", \"RawSarVisionClasses\", \"RoadsDistance\", \"SarvisionBasemap\", \n",
    "        \"ShannonDiversity\", \"UrbanicityDistance\", \"Vegetype\", \"WaterwaysDistance\", \n",
    "        \"current_deforestation_distance\", \"current_degradation_distance\", \"future_deforestation\", \n",
    "        \"gradientASTER\", \"scaledASTER\", \"scaledWorldPop\"]\n",
    "\n",
    "train_df = pd.DataFrame(train_arr.T, columns = train_cols)\n",
    "print(\"Training dataframe shown below. Note that every row represent a 15x15m pixel.\")\n",
    "train_df.columns"
   ]
  },
  {
   "cell_type": "markdown",
   "metadata": {},
   "source": [
    "#### 1.2. Preprocess data"
   ]
  },
  {
   "cell_type": "code",
   "execution_count": 3,
   "metadata": {},
   "outputs": [
    {
     "name": "stdout",
     "output_type": "stream",
     "text": [
      "Dropped 1047 rows with NA\n"
     ]
    }
   ],
   "source": [
    "# Drop NA rows (note this is not needed for all classifiers)\n",
    "len_train_df = len(train_df)\n",
    "train_df = train_df.dropna()\n",
    "print(\"Dropped %s rows with NA\" % (len_train_df - len(train_df)))\n",
    "\n",
    "y_col = \"future_deforestation\"\n",
    "X_cols = [col for col in train_cols if col != y_col]\n",
    "X_train =  train_df[X_cols]\n",
    "y_train = train_df[y_col]\n",
    "\n",
    "# X_train = preprocessing.scale(X_train) # numerical issues\n",
    "scaler = preprocessing.StandardScaler()\n",
    "X_train = scaler.fit_transform(X_train)"
   ]
  },
  {
   "cell_type": "markdown",
   "metadata": {},
   "source": [
    "#### 1.3. Train model"
   ]
  },
  {
   "cell_type": "code",
   "execution_count": 4,
   "metadata": {},
   "outputs": [],
   "source": [
    "#model = LogisticRegression(max_iter=1000)\n",
    "model = RandomForestClassifier()\n",
    "model = model.fit(X_train, y_train)"
   ]
  },
  {
   "cell_type": "markdown",
   "metadata": {},
   "source": [
    "### 2. Validate model"
   ]
  },
  {
   "cell_type": "markdown",
   "metadata": {},
   "source": [
    "#### 2.1 Load validation data"
   ]
  },
  {
   "cell_type": "code",
   "execution_count": 5,
   "metadata": {},
   "outputs": [
    {
     "name": "stdout",
     "output_type": "stream",
     "text": [
      "WARNING: Dropping this tile because one of the pixel values is NA. Current i: 0\n",
      "WARNING: Dropping this tile because one of the pixel values is NA. Current i: 1\n",
      "WARNING: Dropping this tile because one of the pixel values is NA. Current i: 2\n",
      "WARNING: Dropping this tile because one of the pixel values is NA. Current i: 3\n",
      "WARNING: Dropping this tile because one of the pixel values is NA. Current i: 4\n",
      "WARNING: Dropping this tile because one of the pixel values is NA. Current i: 7\n"
     ]
    },
    {
     "data": {
      "text/plain": [
       "(37, 32, 5120)"
      ]
     },
     "execution_count": 5,
     "metadata": {},
     "output_type": "execute_result"
    }
   ],
   "source": [
    "# Load validation data\n",
    "#path_validation_data =\"./kalimantan/validation_hotzones/110.872E 0.111N 737254_hotzones.npy\"\n",
    "validation_data_files = glob.glob(\"./data/validation_hotzones/*.npy\")\n",
    "nr_tiles = 20\n",
    "\n",
    "# Iterate over hotzone arrays and concatenate data\n",
    "#    Note: we only take a few hotzones as an example\n",
    "val_arrs = []\n",
    "for i, path in enumerate(validation_data_files[:nr_tiles]):\n",
    "    arr = np.load(path)\n",
    "    # For simplicity sake we drop the hotzone array if one of the pixel values is NA (NOT RECOMMENDED)\n",
    "    if sum(np.isnan(arr.reshape(-1))) > 0:\n",
    "        print(\"WARNING: Dropping this tile because one of the pixel values is NA. Current i: %s\" % i)\n",
    "        continue\n",
    "    else:\n",
    "        val_arrs.append(arr)\n",
    "    \n",
    "\n",
    "\n",
    "val_arr = np.dstack(val_arrs)\n",
    "val_cols = [\"AggIndex1\", \"AggIndex2\", \"AggIndex3\", \"AggIndex4\", \"AggIndex5\", \"CoastlineDistance\",\n",
    "        \"CurrentMonth\", \"EdgeDensity1\", \"EdgeDensity2\", \"EdgeDensity3\", \"EdgeDensity4\",\n",
    "        \"LandcoverPercentage1\", \"LandcoverPercentage2\", \"LandcoverPercentage3\", \"LandcoverPercentage4\",\n",
    "        \"LogRoadDistance\", \"PalmOilConcession\", \"PalmOilMillsDistance\", \"PatchDensity1\", \"PatchDensity2\", \n",
    "        \"PatchDensity3\", \"PatchDensity4\", \"RawSarVisionClasses\", \"RoadsDistance\", \"SarvisionBasemap\",\n",
    "        \"ShannonDiversity\", \"UrbanicityDistance\", \"Vegetype\", \"WaterwaysDistance\", \n",
    "        \"current_deforestation_distance\", \"current_degradation_distance\", \"future_deforestation\", \n",
    "        \"gradientASTER\", \"scaledASTER\", \"scaledWorldPop\", \"RelativeXPoint\", \"RelativeYPoint\"]\n",
    "val_arr.shape"
   ]
  },
  {
   "cell_type": "markdown",
   "metadata": {},
   "source": [
    "###### Example hotzone array"
   ]
  },
  {
   "cell_type": "markdown",
   "metadata": {},
   "source": [
    "A hotzone describes a 32x32 pixels area.  \n",
    "One validation hotzone array consists of 20 hotzones underneath each other, describing the x and y value for every variable/column.  \n",
    "\n",
    "See below for a graphical explanation. \n",
    "\n",
    "The diagram below shows a graphical representation of the 'future_deforestation' column. On the y-axis you can see 10 hotzones (next to each other, seperated by a black vertical line). Every 32x32 square describes one randomly sampled hotzone from the tile."
   ]
  },
  {
   "cell_type": "code",
   "execution_count": 6,
   "metadata": {},
   "outputs": [
    {
     "name": "stdout",
     "output_type": "stream",
     "text": [
      "Feature (31): future_deforestation, shape: (32, 320)\n"
     ]
    },
    {
     "data": {
      "image/png": "[encoded data removed]",
      "text/plain": [
       "<Figure size 432x288 with 1 Axes>"
      ]
     },
     "metadata": {
      "needs_background": "light"
     },
     "output_type": "display_data"
    }
   ],
   "source": [
    "example_data =\"./data/validation_hotzones/109.672E 0.911N 737254_hotzones.npy\"\n",
    "example_arr = np.load(example_data)\n",
    "\n",
    "future_def_col_idx = val_cols.index('future_deforestation')\n",
    "rel_arr = example_arr[31, :, :32*10]  # we select 10 hotzones \n",
    "lines = np.arange(0, rel_arr.shape[1] , 32) # used for graph\n",
    "print(\"Feature (%s): %s, shape: %s\" % (future_def_col_idx, val_cols[future_def_col_idx], rel_arr.shape))\n",
    "plt.imshow(rel_arr.T, interpolation='nearest')\n",
    "for coord in lines:\n",
    "    plt.axhline(y=coord, color='black')\n",
    "plt.show()"
   ]
  },
  {
   "cell_type": "markdown",
   "metadata": {},
   "source": [
    "#### 2.3 Test model"
   ]
  },
  {
   "cell_type": "code",
   "execution_count": 7,
   "metadata": {},
   "outputs": [],
   "source": [
    "X_idx = [i for i, col in enumerate(val_cols) if col != 'future_deforestation' and col in train_cols]\n",
    "y_idx = val_cols.index('future_deforestation')\n",
    "dim = val_arr.shape\n",
    "\n",
    "val_arr_flat = val_arr.reshape((dim[0], dim[1] * dim[2])).T\n",
    "X_test = val_arr_flat[:, X_idx]\n",
    "X_test = scaler.transform(X_test) # used in training\n",
    "y_actual = val_arr[y_idx, :, :]\n",
    "\n",
    "y_pred = model.predict(X_test)\n",
    "y_pred = y_pred.reshape(dim[1], dim[2])\n",
    "\n",
    "y_proba = model.predict_proba(X_test)[:, 1] # class 1 is relevant\n",
    "y_proba = y_proba.reshape(dim[1], dim[2])"
   ]
  },
  {
   "cell_type": "markdown",
   "metadata": {},
   "source": [
    "#### 2.4 Apply max-pooling  \n",
    "Because performance is low at pixel-level, we aggregate predictions by max-pooling these. See example below"
   ]
  },
  {
   "cell_type": "code",
   "execution_count": 8,
   "metadata": {},
   "outputs": [
    {
     "name": "stdout",
     "output_type": "stream",
     "text": [
      "Shape of y_pred max pooled: (1, 160)\n",
      "Shape of y_actual max pooled: (1, 160)\n"
     ]
    }
   ],
   "source": [
    "def max_pool_predictions(mat):\n",
    "    \"\"\"\n",
    "    Applies the max-pooling step.\n",
    "    This is done by reshaping into an intermediate 4D tensor,\n",
    "    then taking the maxima along the new axes representing\n",
    "    each grid.\n",
    "\n",
    "    Args:\n",
    "        mat: A float32 NumPy array of dimensions (height, width)\n",
    "\n",
    "    Returns:\n",
    "        A float32 NumPy array of dimensions (height/k_size, width/k_size)\n",
    "    \"\"\"\n",
    "    k_size = 32 # 32 pixels = 480 meters\n",
    "    m, n = mat.shape[:2]\n",
    "    _ceil = lambda x, y: int(np.ceil(x / float(y)))\n",
    "    ny = _ceil(m, k_size)\n",
    "    nx = _ceil(n, k_size)\n",
    "    size = (ny * k_size, nx * k_size)\n",
    "    mat_pad = np.full(size, np.nan)\n",
    "    mat_pad[:m, :n, ...] = mat\n",
    "    if np.all(np.isnan(mat_pad)):\n",
    "        return np.nan\n",
    "    new_shape = (ny, k_size, nx, k_size)\n",
    "    return np.nanmax(mat_pad.reshape(new_shape), axis=(1, 3))\n",
    "\n",
    "# Returns an array with one prediction per hotzone (thus in this example 10 hotzones)\n",
    "y_pred_max_pooled = max_pool_predictions(y_pred)\n",
    "print(\"Shape of y_pred max pooled: %s\" % str(y_pred_max_pooled.shape))\n",
    "\n",
    "y_actual_max_pooled = max_pool_predictions(y_actual)\n",
    "print(\"Shape of y_actual max pooled: %s\" % str(y_actual_max_pooled.shape))\n",
    "\n",
    "y_proba_max_pooled = max_pool_predictions(y_proba)"
   ]
  },
  {
   "cell_type": "markdown",
   "metadata": {},
   "source": [
    "#### 2.5 Evaluate model"
   ]
  },
  {
   "cell_type": "code",
   "execution_count": 9,
   "metadata": {},
   "outputs": [
    {
     "name": "stdout",
     "output_type": "stream",
     "text": [
      "Number of predicted deforestation: [117.]\n",
      "Number of actual deforestation : [38.]\n"
     ]
    },
    {
     "data": {
      "text/plain": [
       "array([[42, 80],\n",
       "       [ 1, 37]], dtype=int64)"
      ]
     },
     "execution_count": 9,
     "metadata": {},
     "output_type": "execute_result"
    }
   ],
   "source": [
    "print(\"Number of predicted deforestation: %s\" % sum(y_pred_max_pooled.T))\n",
    "print(\"Number of actual deforestation : %s\" % sum(y_actual_max_pooled.T))\n",
    "\n",
    "conf_matrix = confusion_matrix(y_actual_max_pooled.T, y_pred_max_pooled.T)\n",
    "conf_matrix"
   ]
  },
  {
   "cell_type": "code",
   "execution_count": 10,
   "metadata": {},
   "outputs": [
    {
     "data": {
      "text/plain": [
       "Text(0, 0.5, 'Precision')"
      ]
     },
     "execution_count": 10,
     "metadata": {},
     "output_type": "execute_result"
    },
    {
     "data": {
      "image/png": "[encoded data removed]",
      "text/plain": [
       "<Figure size 432x288 with 1 Axes>"
      ]
     },
     "metadata": {
      "needs_background": "light"
     },
     "output_type": "display_data"
    }
   ],
   "source": [
    "precision, recall, thresholds = precision_recall_curve(y_actual_max_pooled.T, y_proba_max_pooled.T)\n",
    "\n",
    "plt.plot(recall, precision, marker='.', label='Logistic')\n",
    "plt.xlabel('Recall')\n",
    "plt.ylabel('Precision')"
   ]
  },
  {
   "cell_type": "markdown",
   "metadata": {},
   "source": [
    "# Priorization of results"
   ]
  },
  {
   "cell_type": "markdown",
   "metadata": {},
   "source": [
    "In this part of the code, priorization (demo) is applied to the actual predictions/results (y_proba_max_pooled)."
   ]
  },
  {
   "cell_type": "markdown",
   "metadata": {},
   "source": [
    "#### Get feature values per hotzone and standardize"
   ]
  },
  {
   "cell_type": "markdown",
   "metadata": {},
   "source": [
    "The feature values per hotzone have to be extracted in order to apply the prioritization. For this, the mean of all feature values for the pixels in a hotzone are taken."
   ]
  },
  {
   "cell_type": "code",
   "execution_count": 11,
   "metadata": {},
   "outputs": [],
   "source": [
    "def standardize_feature_value(index_feature, value):\n",
    "    '''\n",
    "    This will minmax the feature value which will make it possible to implement in the utility function\n",
    "    X_std = (X - X.min(axis=0)) / (X.max(axis=0) - X.min(axis=0))\n",
    "    X_scaled = X_std * (max - min) + min\n",
    "    x = feature value\n",
    "    '''\n",
    "    list_feature_index = [val_cols.index(i) for i in val_cols if i not in ['future_deforestation', 'RelativeXPoint', 'RelativeYPoint']]\n",
    "    s = np.std(val_arr[index_feature, :, :])\n",
    "    if float(s) == float(0):\n",
    "        x_std = 0 #Standard deviation should not be 0 because implies xmax = xmin \n",
    "    else:\n",
    "        xmax = np.amax(val_arr[index_feature, :, :])\n",
    "        xmin = np.amin(val_arr[index_feature, :, :])\n",
    "        x_std = (value - xmin) / (xmax - xmin)\n",
    "\n",
    "    return x_std\n",
    "\n",
    "def get_feature_values_prediction(hotzone_nr):\n",
    "    '''\n",
    "    This function will return all feature values (the mean) for the hotzone_nr you give as an input. \n",
    "    Moreover, this function will also standardize these feature values using the standardscaler in order to apply them in the utility function.\n",
    "    '''\n",
    "    list_feature_index = [val_cols.index(i) for i in val_cols if i not in ['future_deforestation', 'RelativeXPoint', 'RelativeYPoint']]\n",
    "    hotzone_nr = hotzone_nr - 1\n",
    "    hot_zone_index = 32 * (hotzone_nr)\n",
    "    extra_index = hot_zone_index + 32\n",
    "\n",
    "    all_features = [np.mean(val_arr[i, :32, hot_zone_index:extra_index]) for i in list_feature_index]\n",
    "    return [standardize_feature_value(i,j) for i,j in zip(list_feature_index, all_features)]"
   ]
  },
  {
   "cell_type": "markdown",
   "metadata": {},
   "source": [
    "#### Read data google forms"
   ]
  },
  {
   "cell_type": "markdown",
   "metadata": {},
   "source": [
    "The data used in this demo is collected via a google form. This code will read the form and write the data to a dataframe."
   ]
  },
  {
   "cell_type": "code",
   "execution_count": 79,
   "metadata": {},
   "outputs": [],
   "source": [
    "def read_survey():\n",
    "    r = requests.get('https://docs.google.com/spreadsheet/ccc?key=10jMcZFp8D58apJRkqt2sblmm64Vq7CF1_HNxzscQrl0&output=csv')\n",
    "    data = r.content\n",
    "    df = pd.read_csv(BytesIO(data))\n",
    "    df.columns = ['timestamp', 'critical_species', 'timber', 'national_parks', 'palmoil', 'save_travel', 'citizens', 'availability_water', 'availability_roads', 'natural_water', 'permit_areas', 'important', '2important', '3important', '4important']\n",
    "    df = df[df.columns[1:]]\n",
    "    return df\n",
    "\n",
    "def last_answer():\n",
    "    df = read_survey()\n",
    "    df = df.iloc[-1:]\n",
    "    return df\n",
    "\n",
    "importance_categories = {\n",
    "    'critical_species': ['critical_species'],\n",
    "    'area_demographics': ['national_parks', 'availability_water', 'availability_roads', 'natural_water', 'permit_areas'],\n",
    "    'availibility_of_resources': ['timber', 'palmoil'],\n",
    "    'urbanicity': ['save_travel', 'citizens']\n",
    "}\n",
    "\n",
    "features_links = {\n",
    "    'critical_species': [], #We currently do not have all data and so also not this column\n",
    "    'timber': [], #We currently do not have all data and so also not this column\n",
    "    'national_parks': [], #We currently do not have all data and so also not this column\n",
    "    'palmoil': ['PalmOilMillsDistance', 'PalmOilMillsDistance'],\n",
    "    'save_travel': ['UrbanicityDistance'],\n",
    "    'citizens': ['UrbanicityDistance'],\n",
    "    'availability_water': ['CoastlineDistance'],\n",
    "    'availability_roads': ['LogRoadDistance'],\n",
    "    'natural_water': ['WaterwaysDistance'], \n",
    "    'permit_areas': [] #We currently do not have all data and so also not this column\n",
    "}\n",
    "\n",
    "dict_range = {'start':{1:0.0, #In this dictionary you can arrange the scaling ranges for the values given in the questionnare\n",
    "                      2:0.2,\n",
    "                      3:0.4,\n",
    "                      4:0.6,\n",
    "                      5:0.8},\n",
    "             'stop': {1:0.2,\n",
    "                      2:0.4,\n",
    "                      3:0.6,\n",
    "                      4:0.8,\n",
    "                      5:1.0}}"
   ]
  },
  {
   "cell_type": "markdown",
   "metadata": {},
   "source": [
    "#### Scale utility values from questions"
   ]
  },
  {
   "cell_type": "code",
   "execution_count": 85,
   "metadata": {},
   "outputs": [],
   "source": [
    "def scale_values(dataframe, ranges):\n",
    "    dicionary_values = {i : np.mean(last_answer()[importance_categories[i]].values) for i in importance_categories.keys()}\n",
    "    categories_per_mean = {}\n",
    "    for i, v in dicionary_values.items():\n",
    "        categories_per_mean[v] = [i] if v not in categories_per_mean.keys() else categories_per_mean[v] + [i]\n",
    "    for i in res.keys():\n",
    "        if len(res[i]) > 1:\n",
    "            importance_answer = [last_answer()[i].values[0].lower().replace(' ', '_') for i in  ['important', '2important', '3important', '4important']]\n",
    "            new_order = [value for (value, index) in sorted([(i, importance_answer.index(i)) for i in importance_answer], key = lambda x: x[1], reverse = True) if value in res[i]]\n",
    "            for i in new_order:\n",
    "                new_list = [int(last_answer()[i].values) for i in importance_categories[i]]\n",
    "                determine_index = new_order.index(i)\n",
    "                new_values = [np.linspace(ranges['start'][i],ranges['stop'][i] ,(2 + len(new_order)))[(determine_index+1)] for i in new_list]\n",
    "                new_values = [(i,j) for (i,j) in zip(importance_categories[i], new_values)]\n",
    "                for o in new_values:\n",
    "                    dataframe[o[0]] = o[1]\n",
    "        else: \n",
    "            new_list = [int(last_answer()[i].values) for i in importance_categories[res[i][0]]]\n",
    "            new_values = [np.linspace(ranges['start'][i],ranges['stop'][i] ,3)[1] for i in new_list]\n",
    "            new_values = [(i,j) for (i,j) in zip(importance_categories[res[i][0]], new_values)]\n",
    "            for o in new_values:\n",
    "                dataframe[o[0]] = o[1]\n",
    "    return dataframe"
   ]
  },
  {
   "cell_type": "markdown",
   "metadata": {},
   "source": [
    "#### Prioritize the data from the form"
   ]
  },
  {
   "cell_type": "markdown",
   "metadata": {},
   "source": [
    "The priorization value for each hotzone is needed in order to give an output of which of the predictions is the most important to the user. "
   ]
  },
  {
   "cell_type": "code",
   "execution_count": 89,
   "metadata": {},
   "outputs": [],
   "source": [
    "df_results = scale_values(last_answer(), dict_range)\n",
    "def priorization_value(hotzone_nr, dataframe):\n",
    "    '''\n",
    "    This function will determine the value for the prioritization using the utility values and the feature values.\n",
    "    '''\n",
    "    \n",
    "    column_index = [val_cols.index(i) for i in val_cols if i not in ['future_deforestation', 'RelativeXPoint', 'RelativeYPoint']]\n",
    "    column_names = [val_cols[i] for i in column_index]\n",
    "    \n",
    "    prediction = y_proba_max_pooled[:, hotzone_nr-1] #The predicted value is retreived\n",
    "    \n",
    "    #Apply the utility function\n",
    "    answer = sum([dataframe[j].values * st.mean([get_feature_values_prediction(hotzone_nr)[column_names.index(i)] for i in features_links[j]]) * prediction \n",
    "                  for j in features_links.keys() if len(features_links[j]) > 0])\n",
    "\n",
    "    return answer"
   ]
  },
  {
   "cell_type": "markdown",
   "metadata": {},
   "source": [
    "#### Output the top-n number of prioritized values"
   ]
  },
  {
   "cell_type": "markdown",
   "metadata": {},
   "source": [
    "In this part, the output the top-n number of prioritized values together with their likelyhood deforestation is going to happen is printed to the user."
   ]
  },
  {
   "cell_type": "code",
   "execution_count": 90,
   "metadata": {},
   "outputs": [],
   "source": [
    "def give_priorization(nr_outputs):\n",
    "    '''\n",
    "    This function prioritizes all the data and the associated probabilities.\n",
    "    '''\n",
    "    all_values = [(idx , priorization_value(i, df_results)) for idx,i in enumerate(range(1,y_proba_max_pooled.shape[1] + 1))]\n",
    "    sorted_priorizations = sorted(all_values, key=lambda data: data[1], reverse=True)\n",
    "    sorteds = sorted_priorizations[0:nr_outputs]\n",
    "    data = [[i[0] + 1, i[1][0], y_proba_max_pooled[:,i[0]][0]] for i in sorteds]\n",
    "    headers = ['Hotzone Number', 'Prioritization Value', 'Deforestation Prediction']\n",
    "    print(pd.DataFrame(data, columns=headers, index=np.arange(1, len(data) + 1)))"
   ]
  },
  {
   "cell_type": "code",
   "execution_count": 93,
   "metadata": {},
   "outputs": [
    {
     "name": "stdout",
     "output_type": "stream",
     "text": [
      "    Hotzone Number  Prioritization Value  Deforestation Prediction\n",
      "1              152              2.079000                      0.99\n",
      "2              106              1.829781                      0.87\n",
      "3              102              1.750128                      0.88\n",
      "4              137              1.708497                      0.99\n",
      "5              122              1.701093                      0.92\n",
      "6              104              1.690193                      0.85\n",
      "7              130              1.688057                      0.93\n",
      "8              100              1.674822                      0.80\n",
      "9              123              1.638272                      0.95\n",
      "10             134              1.636133                      0.91\n",
      "11             105              1.626780                      0.74\n",
      "12             133              1.603832                      0.90\n",
      "13             101              1.593207                      0.82\n",
      "14             128              1.583679                      0.95\n",
      "15             115              1.570866                      0.91\n"
     ]
    }
   ],
   "source": [
    "give_priorization(15)"
   ]
  }
 ],
 "metadata": {
  "kernelspec": {
   "display_name": "Python 3",
   "language": "python",
   "name": "python3"
  },
  "language_info": {
   "codemirror_mode": {
    "name": "ipython",
    "version": 3
   },
   "file_extension": ".py",
   "mimetype": "text/x-python",
   "name": "python",
   "nbconvert_exporter": "python",
   "pygments_lexer": "ipython3",
   "version": "3.8.3"
  }
 },
 "nbformat": 4,
 "nbformat_minor": 4
}
