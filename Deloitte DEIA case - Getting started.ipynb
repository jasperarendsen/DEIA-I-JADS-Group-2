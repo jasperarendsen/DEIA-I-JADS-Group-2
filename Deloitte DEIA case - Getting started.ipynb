{
 "cells": [
  {
   "cell_type": "markdown",
   "metadata": {},
   "source": [
    "# Deloitte DEIA Case - Getting started  \n",
    "\n",
    "This Jupyter notebook contains code snippets to get you started with the data.  Note that you are free to experiment with other training methods.  However, to compare your results easily with the current results, make sure that you apply the same evaluation method (i.e. apply max-pooling) as this notebook.  \n",
    "\n",
    "Have fun!"
   ]
  },
  {
   "cell_type": "markdown",
   "metadata": {},
   "source": [
    "##### Import relevant packages"
   ]
  },
  {
   "cell_type": "code",
   "execution_count": 1,
   "metadata": {
    "scrolled": true
   },
   "outputs": [],
   "source": [
    "import glob\n",
    "import os\n",
    "\n",
    "import numpy as np\n",
    "import pandas as pd\n",
    "from scipy import stats\n",
    "from matplotlib import pyplot as plt\n",
    "import seaborn as sns\n",
    "\n",
    "from sklearn import preprocessing\n",
    "from sklearn.linear_model import LogisticRegression\n",
    "from sklearn.ensemble import RandomForestClassifier\n",
    "from sklearn.metrics import confusion_matrix, precision_recall_curve, plot_precision_recall_curve\n",
    "import matplotlib.pyplot as plt\n",
    "from io import BytesIO\n",
    "import requests"
   ]
  },
  {
   "cell_type": "markdown",
   "metadata": {},
   "source": [
    "### 1. Train model"
   ]
  },
  {
   "cell_type": "markdown",
   "metadata": {},
   "source": [
    "#### 1.1 Load training data"
   ]
  },
  {
   "cell_type": "code",
   "execution_count": 2,
   "metadata": {},
   "outputs": [
    {
     "name": "stdout",
     "output_type": "stream",
     "text": [
      "Shape of train arr: (35, 5768728)\n",
      "Shape of subsetted train arr: (35, 100000)\n",
      "Training dataframe shown below. Note that every row represent a 15x15m pixel.\n"
     ]
    },
    {
     "data": {
      "text/html": [
       "<div>\n",
       "<style scoped>\n",
       "    .dataframe tbody tr th:only-of-type {\n",
       "        vertical-align: middle;\n",
       "    }\n",
       "\n",
       "    .dataframe tbody tr th {\n",
       "        vertical-align: top;\n",
       "    }\n",
       "\n",
       "    .dataframe thead th {\n",
       "        text-align: right;\n",
       "    }\n",
       "</style>\n",
       "<table border=\"1\" class=\"dataframe\">\n",
       "  <thead>\n",
       "    <tr style=\"text-align: right;\">\n",
       "      <th></th>\n",
       "      <th>AggIndex1</th>\n",
       "      <th>AggIndex2</th>\n",
       "      <th>AggIndex3</th>\n",
       "      <th>AggIndex4</th>\n",
       "      <th>AggIndex5</th>\n",
       "      <th>CoastlineDistance</th>\n",
       "      <th>CurrentMonth</th>\n",
       "      <th>EdgeDensity1</th>\n",
       "      <th>EdgeDensity2</th>\n",
       "      <th>EdgeDensity3</th>\n",
       "      <th>...</th>\n",
       "      <th>ShannonDiversity</th>\n",
       "      <th>UrbanicityDistance</th>\n",
       "      <th>Vegetype</th>\n",
       "      <th>WaterwaysDistance</th>\n",
       "      <th>current_deforestation_distance</th>\n",
       "      <th>current_degradation_distance</th>\n",
       "      <th>future_deforestation</th>\n",
       "      <th>gradientASTER</th>\n",
       "      <th>scaledASTER</th>\n",
       "      <th>scaledWorldPop</th>\n",
       "    </tr>\n",
       "  </thead>\n",
       "  <tbody>\n",
       "    <tr>\n",
       "      <th>0</th>\n",
       "      <td>0.998113</td>\n",
       "      <td>0.0</td>\n",
       "      <td>0.0</td>\n",
       "      <td>0.000000e+00</td>\n",
       "      <td>0.994043</td>\n",
       "      <td>0.758086</td>\n",
       "      <td>2.0</td>\n",
       "      <td>0.023289</td>\n",
       "      <td>0.0</td>\n",
       "      <td>0.0</td>\n",
       "      <td>...</td>\n",
       "      <td>0.024254</td>\n",
       "      <td>0.758086</td>\n",
       "      <td>1.0</td>\n",
       "      <td>0.110194</td>\n",
       "      <td>0.029134</td>\n",
       "      <td>0.758086</td>\n",
       "      <td>0.0</td>\n",
       "      <td>6.640631</td>\n",
       "      <td>988.149536</td>\n",
       "      <td>5.384419e-01</td>\n",
       "    </tr>\n",
       "    <tr>\n",
       "      <th>1</th>\n",
       "      <td>0.999815</td>\n",
       "      <td>0.0</td>\n",
       "      <td>0.0</td>\n",
       "      <td>-9.834501e-19</td>\n",
       "      <td>0.999314</td>\n",
       "      <td>0.513337</td>\n",
       "      <td>2.0</td>\n",
       "      <td>0.002707</td>\n",
       "      <td>0.0</td>\n",
       "      <td>0.0</td>\n",
       "      <td>...</td>\n",
       "      <td>0.003143</td>\n",
       "      <td>0.513337</td>\n",
       "      <td>1.0</td>\n",
       "      <td>0.093929</td>\n",
       "      <td>0.133348</td>\n",
       "      <td>0.513337</td>\n",
       "      <td>0.0</td>\n",
       "      <td>4.845877</td>\n",
       "      <td>1204.789062</td>\n",
       "      <td>5.320306e-01</td>\n",
       "    </tr>\n",
       "    <tr>\n",
       "      <th>2</th>\n",
       "      <td>0.992283</td>\n",
       "      <td>0.0</td>\n",
       "      <td>0.0</td>\n",
       "      <td>0.000000e+00</td>\n",
       "      <td>0.951019</td>\n",
       "      <td>0.494949</td>\n",
       "      <td>2.0</td>\n",
       "      <td>0.114160</td>\n",
       "      <td>0.0</td>\n",
       "      <td>0.0</td>\n",
       "      <td>...</td>\n",
       "      <td>0.152163</td>\n",
       "      <td>0.494949</td>\n",
       "      <td>1.0</td>\n",
       "      <td>0.000955</td>\n",
       "      <td>0.072080</td>\n",
       "      <td>0.494949</td>\n",
       "      <td>0.0</td>\n",
       "      <td>3.532176</td>\n",
       "      <td>562.746887</td>\n",
       "      <td>1.517564e+00</td>\n",
       "    </tr>\n",
       "    <tr>\n",
       "      <th>3</th>\n",
       "      <td>0.998393</td>\n",
       "      <td>0.0</td>\n",
       "      <td>0.0</td>\n",
       "      <td>0.000000e+00</td>\n",
       "      <td>0.993905</td>\n",
       "      <td>0.712519</td>\n",
       "      <td>2.0</td>\n",
       "      <td>0.021796</td>\n",
       "      <td>0.0</td>\n",
       "      <td>0.0</td>\n",
       "      <td>...</td>\n",
       "      <td>0.025943</td>\n",
       "      <td>0.712519</td>\n",
       "      <td>1.0</td>\n",
       "      <td>0.064870</td>\n",
       "      <td>0.072867</td>\n",
       "      <td>0.712519</td>\n",
       "      <td>0.0</td>\n",
       "      <td>5.881382</td>\n",
       "      <td>649.214844</td>\n",
       "      <td>4.755194e-01</td>\n",
       "    </tr>\n",
       "    <tr>\n",
       "      <th>4</th>\n",
       "      <td>0.999334</td>\n",
       "      <td>0.0</td>\n",
       "      <td>0.0</td>\n",
       "      <td>0.000000e+00</td>\n",
       "      <td>0.997253</td>\n",
       "      <td>0.567218</td>\n",
       "      <td>2.0</td>\n",
       "      <td>0.010412</td>\n",
       "      <td>0.0</td>\n",
       "      <td>0.0</td>\n",
       "      <td>...</td>\n",
       "      <td>0.012912</td>\n",
       "      <td>0.567218</td>\n",
       "      <td>1.0</td>\n",
       "      <td>0.055763</td>\n",
       "      <td>0.194268</td>\n",
       "      <td>0.567218</td>\n",
       "      <td>0.0</td>\n",
       "      <td>4.038354</td>\n",
       "      <td>1039.678223</td>\n",
       "      <td>4.759941e-01</td>\n",
       "    </tr>\n",
       "    <tr>\n",
       "      <th>...</th>\n",
       "      <td>...</td>\n",
       "      <td>...</td>\n",
       "      <td>...</td>\n",
       "      <td>...</td>\n",
       "      <td>...</td>\n",
       "      <td>...</td>\n",
       "      <td>...</td>\n",
       "      <td>...</td>\n",
       "      <td>...</td>\n",
       "      <td>...</td>\n",
       "      <td>...</td>\n",
       "      <td>...</td>\n",
       "      <td>...</td>\n",
       "      <td>...</td>\n",
       "      <td>...</td>\n",
       "      <td>...</td>\n",
       "      <td>...</td>\n",
       "      <td>...</td>\n",
       "      <td>...</td>\n",
       "      <td>...</td>\n",
       "      <td>...</td>\n",
       "    </tr>\n",
       "    <tr>\n",
       "      <th>99995</th>\n",
       "      <td>0.000000</td>\n",
       "      <td>0.0</td>\n",
       "      <td>0.0</td>\n",
       "      <td>0.000000e+00</td>\n",
       "      <td>0.000000</td>\n",
       "      <td>0.293870</td>\n",
       "      <td>7.0</td>\n",
       "      <td>0.000000</td>\n",
       "      <td>0.0</td>\n",
       "      <td>0.0</td>\n",
       "      <td>...</td>\n",
       "      <td>0.000000</td>\n",
       "      <td>0.589214</td>\n",
       "      <td>0.0</td>\n",
       "      <td>0.435807</td>\n",
       "      <td>0.373768</td>\n",
       "      <td>0.398678</td>\n",
       "      <td>0.0</td>\n",
       "      <td>0.000000</td>\n",
       "      <td>0.000000</td>\n",
       "      <td>-3.402823e+38</td>\n",
       "    </tr>\n",
       "    <tr>\n",
       "      <th>99996</th>\n",
       "      <td>0.000000</td>\n",
       "      <td>0.0</td>\n",
       "      <td>0.0</td>\n",
       "      <td>0.000000e+00</td>\n",
       "      <td>0.000000</td>\n",
       "      <td>0.062636</td>\n",
       "      <td>7.0</td>\n",
       "      <td>0.000000</td>\n",
       "      <td>0.0</td>\n",
       "      <td>0.0</td>\n",
       "      <td>...</td>\n",
       "      <td>0.000000</td>\n",
       "      <td>0.750813</td>\n",
       "      <td>0.0</td>\n",
       "      <td>0.199051</td>\n",
       "      <td>0.106365</td>\n",
       "      <td>0.144963</td>\n",
       "      <td>0.0</td>\n",
       "      <td>0.000000</td>\n",
       "      <td>0.000000</td>\n",
       "      <td>-3.402823e+38</td>\n",
       "    </tr>\n",
       "    <tr>\n",
       "      <th>99997</th>\n",
       "      <td>0.000000</td>\n",
       "      <td>0.0</td>\n",
       "      <td>0.0</td>\n",
       "      <td>0.000000e+00</td>\n",
       "      <td>0.000000</td>\n",
       "      <td>0.237423</td>\n",
       "      <td>7.0</td>\n",
       "      <td>0.000000</td>\n",
       "      <td>0.0</td>\n",
       "      <td>0.0</td>\n",
       "      <td>...</td>\n",
       "      <td>0.000000</td>\n",
       "      <td>0.370892</td>\n",
       "      <td>0.0</td>\n",
       "      <td>0.244901</td>\n",
       "      <td>0.248618</td>\n",
       "      <td>0.249274</td>\n",
       "      <td>0.0</td>\n",
       "      <td>0.000000</td>\n",
       "      <td>0.000000</td>\n",
       "      <td>-3.402823e+38</td>\n",
       "    </tr>\n",
       "    <tr>\n",
       "      <th>99998</th>\n",
       "      <td>0.000000</td>\n",
       "      <td>0.0</td>\n",
       "      <td>0.0</td>\n",
       "      <td>0.000000e+00</td>\n",
       "      <td>0.000000</td>\n",
       "      <td>0.280978</td>\n",
       "      <td>7.0</td>\n",
       "      <td>0.000000</td>\n",
       "      <td>0.0</td>\n",
       "      <td>0.0</td>\n",
       "      <td>...</td>\n",
       "      <td>0.000000</td>\n",
       "      <td>0.597843</td>\n",
       "      <td>0.0</td>\n",
       "      <td>0.475161</td>\n",
       "      <td>0.414685</td>\n",
       "      <td>0.439143</td>\n",
       "      <td>0.0</td>\n",
       "      <td>0.000000</td>\n",
       "      <td>0.000000</td>\n",
       "      <td>-3.402823e+38</td>\n",
       "    </tr>\n",
       "    <tr>\n",
       "      <th>99999</th>\n",
       "      <td>0.000000</td>\n",
       "      <td>0.0</td>\n",
       "      <td>0.0</td>\n",
       "      <td>0.000000e+00</td>\n",
       "      <td>0.000000</td>\n",
       "      <td>0.209017</td>\n",
       "      <td>7.0</td>\n",
       "      <td>0.000000</td>\n",
       "      <td>0.0</td>\n",
       "      <td>0.0</td>\n",
       "      <td>...</td>\n",
       "      <td>0.000000</td>\n",
       "      <td>0.304444</td>\n",
       "      <td>0.0</td>\n",
       "      <td>0.314450</td>\n",
       "      <td>0.293880</td>\n",
       "      <td>0.294685</td>\n",
       "      <td>0.0</td>\n",
       "      <td>0.000000</td>\n",
       "      <td>0.000000</td>\n",
       "      <td>-3.402823e+38</td>\n",
       "    </tr>\n",
       "  </tbody>\n",
       "</table>\n",
       "<p>100000 rows × 35 columns</p>\n",
       "</div>"
      ],
      "text/plain": [
       "       AggIndex1  AggIndex2  AggIndex3     AggIndex4  AggIndex5  \\\n",
       "0       0.998113        0.0        0.0  0.000000e+00   0.994043   \n",
       "1       0.999815        0.0        0.0 -9.834501e-19   0.999314   \n",
       "2       0.992283        0.0        0.0  0.000000e+00   0.951019   \n",
       "3       0.998393        0.0        0.0  0.000000e+00   0.993905   \n",
       "4       0.999334        0.0        0.0  0.000000e+00   0.997253   \n",
       "...          ...        ...        ...           ...        ...   \n",
       "99995   0.000000        0.0        0.0  0.000000e+00   0.000000   \n",
       "99996   0.000000        0.0        0.0  0.000000e+00   0.000000   \n",
       "99997   0.000000        0.0        0.0  0.000000e+00   0.000000   \n",
       "99998   0.000000        0.0        0.0  0.000000e+00   0.000000   \n",
       "99999   0.000000        0.0        0.0  0.000000e+00   0.000000   \n",
       "\n",
       "       CoastlineDistance  CurrentMonth  EdgeDensity1  EdgeDensity2  \\\n",
       "0               0.758086           2.0      0.023289           0.0   \n",
       "1               0.513337           2.0      0.002707           0.0   \n",
       "2               0.494949           2.0      0.114160           0.0   \n",
       "3               0.712519           2.0      0.021796           0.0   \n",
       "4               0.567218           2.0      0.010412           0.0   \n",
       "...                  ...           ...           ...           ...   \n",
       "99995           0.293870           7.0      0.000000           0.0   \n",
       "99996           0.062636           7.0      0.000000           0.0   \n",
       "99997           0.237423           7.0      0.000000           0.0   \n",
       "99998           0.280978           7.0      0.000000           0.0   \n",
       "99999           0.209017           7.0      0.000000           0.0   \n",
       "\n",
       "       EdgeDensity3  ...  ShannonDiversity  UrbanicityDistance  Vegetype  \\\n",
       "0               0.0  ...          0.024254            0.758086       1.0   \n",
       "1               0.0  ...          0.003143            0.513337       1.0   \n",
       "2               0.0  ...          0.152163            0.494949       1.0   \n",
       "3               0.0  ...          0.025943            0.712519       1.0   \n",
       "4               0.0  ...          0.012912            0.567218       1.0   \n",
       "...             ...  ...               ...                 ...       ...   \n",
       "99995           0.0  ...          0.000000            0.589214       0.0   \n",
       "99996           0.0  ...          0.000000            0.750813       0.0   \n",
       "99997           0.0  ...          0.000000            0.370892       0.0   \n",
       "99998           0.0  ...          0.000000            0.597843       0.0   \n",
       "99999           0.0  ...          0.000000            0.304444       0.0   \n",
       "\n",
       "       WaterwaysDistance  current_deforestation_distance  \\\n",
       "0               0.110194                        0.029134   \n",
       "1               0.093929                        0.133348   \n",
       "2               0.000955                        0.072080   \n",
       "3               0.064870                        0.072867   \n",
       "4               0.055763                        0.194268   \n",
       "...                  ...                             ...   \n",
       "99995           0.435807                        0.373768   \n",
       "99996           0.199051                        0.106365   \n",
       "99997           0.244901                        0.248618   \n",
       "99998           0.475161                        0.414685   \n",
       "99999           0.314450                        0.293880   \n",
       "\n",
       "       current_degradation_distance  future_deforestation  gradientASTER  \\\n",
       "0                          0.758086                   0.0       6.640631   \n",
       "1                          0.513337                   0.0       4.845877   \n",
       "2                          0.494949                   0.0       3.532176   \n",
       "3                          0.712519                   0.0       5.881382   \n",
       "4                          0.567218                   0.0       4.038354   \n",
       "...                             ...                   ...            ...   \n",
       "99995                      0.398678                   0.0       0.000000   \n",
       "99996                      0.144963                   0.0       0.000000   \n",
       "99997                      0.249274                   0.0       0.000000   \n",
       "99998                      0.439143                   0.0       0.000000   \n",
       "99999                      0.294685                   0.0       0.000000   \n",
       "\n",
       "       scaledASTER  scaledWorldPop  \n",
       "0       988.149536    5.384419e-01  \n",
       "1      1204.789062    5.320306e-01  \n",
       "2       562.746887    1.517564e+00  \n",
       "3       649.214844    4.755194e-01  \n",
       "4      1039.678223    4.759941e-01  \n",
       "...            ...             ...  \n",
       "99995     0.000000   -3.402823e+38  \n",
       "99996     0.000000   -3.402823e+38  \n",
       "99997     0.000000   -3.402823e+38  \n",
       "99998     0.000000   -3.402823e+38  \n",
       "99999     0.000000   -3.402823e+38  \n",
       "\n",
       "[100000 rows x 35 columns]"
      ]
     },
     "execution_count": 2,
     "metadata": {},
     "output_type": "execute_result"
    }
   ],
   "source": [
    "# Load training database\n",
    "path_training_db = \"./data/training_data/training_array_kalimantan.npy\"\n",
    "train_arr = np.load(path_training_db)\n",
    "print(\"Shape of train arr: %s\" % str(train_arr.shape))\n",
    "\n",
    "# We only take a small subset for this example\n",
    "train_arr = train_arr[:, :100000]\n",
    "print(\"Shape of subsetted train arr: %s\" % str(train_arr.shape))\n",
    "\n",
    "# For a column description, refer to attached Excel file\n",
    "train_cols = [\"AggIndex1\", \"AggIndex2\", \"AggIndex3\", \"AggIndex4\", \"AggIndex5\", \"CoastlineDistance\",\n",
    "        \"CurrentMonth\", \"EdgeDensity1\", \"EdgeDensity2\", \"EdgeDensity3\", \"EdgeDensity4\",\n",
    "        \"LandcoverPercentage1\", \"LandcoverPercentage2\", \"LandcoverPercentage3\", \n",
    "        \"LandcoverPercentage4\", \"LogRoadDistance\", \"PalmOilConcession\", \n",
    "        \"PalmOilMillsDistance\", \"PatchDensity1\", \"PatchDensity2\", \"PatchDensity3\", \n",
    "        \"PatchDensity4\", \"RawSarVisionClasses\", \"RoadsDistance\", \"SarvisionBasemap\", \n",
    "        \"ShannonDiversity\", \"UrbanicityDistance\", \"Vegetype\", \"WaterwaysDistance\", \n",
    "        \"current_deforestation_distance\", \"current_degradation_distance\", \"future_deforestation\", \n",
    "        \"gradientASTER\", \"scaledASTER\", \"scaledWorldPop\"]\n",
    "\n",
    "train_df = pd.DataFrame(train_arr.T, columns = train_cols)\n",
    "print(\"Training dataframe shown below. Note that every row represent a 15x15m pixel.\")\n",
    "train_df"
   ]
  },
  {
   "cell_type": "markdown",
   "metadata": {},
   "source": [
    "#### 1.2. Preprocess data"
   ]
  },
  {
   "cell_type": "code",
   "execution_count": 3,
   "metadata": {},
   "outputs": [
    {
     "name": "stdout",
     "output_type": "stream",
     "text": [
      "Dropped 1047 rows with NA\n"
     ]
    }
   ],
   "source": [
    "# Drop NA rows (note this is not needed for all classifiers)\n",
    "len_train_df = len(train_df)\n",
    "train_df = train_df.dropna()\n",
    "print(\"Dropped %s rows with NA\" % (len_train_df - len(train_df)))\n",
    "\n",
    "y_col = \"future_deforestation\"\n",
    "X_cols = [col for col in train_cols if col != y_col]\n",
    "X_train =  train_df[X_cols]\n",
    "y_train = train_df[y_col]\n",
    "\n",
    "# X_train = preprocessing.scale(X_train) # numerical issues\n",
    "scaler = preprocessing.StandardScaler()\n",
    "X_train = scaler.fit_transform(X_train)"
   ]
  },
  {
   "cell_type": "markdown",
   "metadata": {},
   "source": [
    "#### 1.3. Train model"
   ]
  },
  {
   "cell_type": "code",
   "execution_count": 4,
   "metadata": {},
   "outputs": [],
   "source": [
    "#model = LogisticRegression(max_iter=1000)\n",
    "model = RandomForestClassifier()\n",
    "model = model.fit(X_train, y_train)"
   ]
  },
  {
   "cell_type": "markdown",
   "metadata": {},
   "source": [
    "### 2. Validate model"
   ]
  },
  {
   "cell_type": "markdown",
   "metadata": {},
   "source": [
    "#### 2.1 Load validation data"
   ]
  },
  {
   "cell_type": "code",
   "execution_count": 5,
   "metadata": {},
   "outputs": [
    {
     "name": "stdout",
     "output_type": "stream",
     "text": [
      "WARNING: Dropping this tile because one of the pixel values is NA. Current i: 0\n",
      "WARNING: Dropping this tile because one of the pixel values is NA. Current i: 1\n",
      "WARNING: Dropping this tile because one of the pixel values is NA. Current i: 2\n",
      "WARNING: Dropping this tile because one of the pixel values is NA. Current i: 3\n",
      "WARNING: Dropping this tile because one of the pixel values is NA. Current i: 4\n",
      "WARNING: Dropping this tile because one of the pixel values is NA. Current i: 7\n"
     ]
    },
    {
     "data": {
      "text/plain": [
       "(37, 32, 5120)"
      ]
     },
     "execution_count": 5,
     "metadata": {},
     "output_type": "execute_result"
    }
   ],
   "source": [
    "# Load validation data\n",
    "#path_validation_data =\"./kalimantan/validation_hotzones/110.872E 0.111N 737254_hotzones.npy\"\n",
    "validation_data_files = glob.glob(\"./data/validation_hotzones/*.npy\")\n",
    "nr_tiles = 20\n",
    "\n",
    "# Iterate over hotzone arrays and concatenate data\n",
    "#    Note: we only take a few hotzones as an example\n",
    "val_arrs = []\n",
    "for i, path in enumerate(validation_data_files[:nr_tiles]):\n",
    "    arr = np.load(path)\n",
    "    # For simplicity sake we drop the hotzone array if one of the pixel values is NA (NOT RECOMMENDED)\n",
    "    if sum(np.isnan(arr.reshape(-1))) > 0:\n",
    "        print(\"WARNING: Dropping this tile because one of the pixel values is NA. Current i: %s\" % i)\n",
    "        continue\n",
    "    else:\n",
    "        val_arrs.append(arr)\n",
    "    \n",
    "\n",
    "\n",
    "val_arr = np.dstack(val_arrs)\n",
    "val_cols = [\"AggIndex1\", \"AggIndex2\", \"AggIndex3\", \"AggIndex4\", \"AggIndex5\", \"CoastlineDistance\",\n",
    "        \"CurrentMonth\", \"EdgeDensity1\", \"EdgeDensity2\", \"EdgeDensity3\", \"EdgeDensity4\",\n",
    "        \"LandcoverPercentage1\", \"LandcoverPercentage2\", \"LandcoverPercentage3\", \"LandcoverPercentage4\",\n",
    "        \"LogRoadDistance\", \"PalmOilConcession\", \"PalmOilMillsDistance\", \"PatchDensity1\", \"PatchDensity2\", \n",
    "        \"PatchDensity3\", \"PatchDensity4\", \"RawSarVisionClasses\", \"RoadsDistance\", \"SarvisionBasemap\",\n",
    "        \"ShannonDiversity\", \"UrbanicityDistance\", \"Vegetype\", \"WaterwaysDistance\", \n",
    "        \"current_deforestation_distance\", \"current_degradation_distance\", \"future_deforestation\", \n",
    "        \"gradientASTER\", \"scaledASTER\", \"scaledWorldPop\", \"RelativeXPoint\", \"RelativeYPoint\"]\n",
    "val_arr.shape"
   ]
  },
  {
   "cell_type": "markdown",
   "metadata": {},
   "source": [
    "###### Example hotzone array"
   ]
  },
  {
   "cell_type": "markdown",
   "metadata": {},
   "source": [
    "A hotzone describes a 32x32 pixels area.  \n",
    "One validation hotzone array consists of 20 hotzones underneath each other, describing the x and y value for every variable/column.  \n",
    "\n",
    "See below for a graphical explanation. \n",
    "\n",
    "The diagram below shows a graphical representation of the 'future_deforestation' column. On the y-axis you can see 10 hotzones (next to each other, seperated by a black vertical line). Every 32x32 square describes one randomly sampled hotzone from the tile."
   ]
  },
  {
   "cell_type": "code",
   "execution_count": 6,
   "metadata": {},
   "outputs": [
    {
     "name": "stdout",
     "output_type": "stream",
     "text": [
      "Feature (31): future_deforestation, shape: (32, 320)\n"
     ]
    },
    {
     "data": {
      "image/png": "[encoded data removed]",
      "text/plain": [
       "<Figure size 432x288 with 1 Axes>"
      ]
     },
     "metadata": {
      "needs_background": "light"
     },
     "output_type": "display_data"
    }
   ],
   "source": [
    "example_data =\"./data/validation_hotzones/109.672E 0.911N 737254_hotzones.npy\"\n",
    "example_arr = np.load(example_data)\n",
    "\n",
    "future_def_col_idx = val_cols.index('future_deforestation')\n",
    "rel_arr = example_arr[31, :, :32*10]  # we select 10 hotzones \n",
    "lines = np.arange(0, rel_arr.shape[1] , 32) # used for graph\n",
    "print(\"Feature (%s): %s, shape: %s\" % (future_def_col_idx, val_cols[future_def_col_idx], rel_arr.shape))\n",
    "plt.imshow(rel_arr.T, interpolation='nearest')\n",
    "for coord in lines:\n",
    "    plt.axhline(y=coord, color='black')\n",
    "plt.show()"
   ]
  },
  {
   "cell_type": "markdown",
   "metadata": {},
   "source": [
    "#### 2.3 Test model"
   ]
  },
  {
   "cell_type": "code",
   "execution_count": 7,
   "metadata": {},
   "outputs": [],
   "source": [
    "X_idx = [i for i, col in enumerate(val_cols) if col != 'future_deforestation' and col in train_cols]\n",
    "y_idx = val_cols.index('future_deforestation')\n",
    "dim = val_arr.shape\n",
    "\n",
    "val_arr_flat = val_arr.reshape((dim[0], dim[1] * dim[2])).T\n",
    "X_test = val_arr_flat[:, X_idx]\n",
    "X_test = scaler.transform(X_test) # used in training\n",
    "y_actual = val_arr[y_idx, :, :]\n",
    "\n",
    "y_pred = model.predict(X_test)\n",
    "y_pred = y_pred.reshape(dim[1], dim[2])\n",
    "\n",
    "y_proba = model.predict_proba(X_test)[:, 1] # class 1 is relevant\n",
    "y_proba = y_proba.reshape(dim[1], dim[2])"
   ]
  },
  {
   "cell_type": "markdown",
   "metadata": {},
   "source": [
    "#### 2.4 Apply max-pooling  \n",
    "Because performance is low at pixel-level, we aggregate predictions by max-pooling these. See example below"
   ]
  },
  {
   "cell_type": "code",
   "execution_count": 8,
   "metadata": {},
   "outputs": [
    {
     "name": "stdout",
     "output_type": "stream",
     "text": [
      "Shape of y_pred max pooled: (1, 160)\n",
      "Shape of y_actual max pooled: (1, 160)\n"
     ]
    }
   ],
   "source": [
    "def max_pool_predictions(mat):\n",
    "    \"\"\"\n",
    "    Applies the max-pooling step.\n",
    "    This is done by reshaping into an intermediate 4D tensor,\n",
    "    then taking the maxima along the new axes representing\n",
    "    each grid.\n",
    "\n",
    "    Args:\n",
    "        mat: A float32 NumPy array of dimensions (height, width)\n",
    "\n",
    "    Returns:\n",
    "        A float32 NumPy array of dimensions (height/k_size, width/k_size)\n",
    "    \"\"\"\n",
    "    k_size = 32 # 32 pixels = 480 meters\n",
    "    m, n = mat.shape[:2]\n",
    "    _ceil = lambda x, y: int(np.ceil(x / float(y)))\n",
    "    ny = _ceil(m, k_size)\n",
    "    nx = _ceil(n, k_size)\n",
    "    size = (ny * k_size, nx * k_size)\n",
    "    mat_pad = np.full(size, np.nan)\n",
    "    mat_pad[:m, :n, ...] = mat\n",
    "    if np.all(np.isnan(mat_pad)):\n",
    "        return np.nan\n",
    "    new_shape = (ny, k_size, nx, k_size)\n",
    "    return np.nanmax(mat_pad.reshape(new_shape), axis=(1, 3))\n",
    "\n",
    "# Returns an array with one prediction per hotzone (thus in this example 10 hotzones)\n",
    "y_pred_max_pooled = max_pool_predictions(y_pred)\n",
    "print(\"Shape of y_pred max pooled: %s\" % str(y_pred_max_pooled.shape))\n",
    "\n",
    "y_actual_max_pooled = max_pool_predictions(y_actual)\n",
    "print(\"Shape of y_actual max pooled: %s\" % str(y_actual_max_pooled.shape))\n",
    "\n",
    "y_proba_max_pooled = max_pool_predictions(y_proba)"
   ]
  },
  {
   "cell_type": "markdown",
   "metadata": {},
   "source": [
    "#### 2.5 Evaluate model"
   ]
  },
  {
   "cell_type": "code",
   "execution_count": 9,
   "metadata": {},
   "outputs": [
    {
     "name": "stdout",
     "output_type": "stream",
     "text": [
      "Number of predicted deforestation: [117.]\n",
      "Number of actual deforestation : [38.]\n"
     ]
    },
    {
     "data": {
      "text/plain": [
       "array([[42, 80],\n",
       "       [ 1, 37]], dtype=int64)"
      ]
     },
     "execution_count": 9,
     "metadata": {},
     "output_type": "execute_result"
    }
   ],
   "source": [
    "print(\"Number of predicted deforestation: %s\" % sum(y_pred_max_pooled.T))\n",
    "print(\"Number of actual deforestation : %s\" % sum(y_actual_max_pooled.T))\n",
    "\n",
    "conf_matrix = confusion_matrix(y_actual_max_pooled.T, y_pred_max_pooled.T)\n",
    "conf_matrix"
   ]
  },
  {
   "cell_type": "code",
   "execution_count": 10,
   "metadata": {},
   "outputs": [
    {
     "data": {
      "text/plain": [
       "Text(0, 0.5, 'Precision')"
      ]
     },
     "execution_count": 10,
     "metadata": {},
     "output_type": "execute_result"
    },
    {
     "data": {
      "image/png": "[encoded data removed]",
      "text/plain": [
       "<Figure size 432x288 with 1 Axes>"
      ]
     },
     "metadata": {
      "needs_background": "light"
     },
     "output_type": "display_data"
    }
   ],
   "source": [
    "precision, recall, thresholds = precision_recall_curve(y_actual_max_pooled.T, y_proba_max_pooled.T)\n",
    "\n",
    "plt.plot(recall, precision, marker='.', label='Logistic')\n",
    "plt.xlabel('Recall')\n",
    "plt.ylabel('Precision')"
   ]
  },
  {
   "cell_type": "markdown",
   "metadata": {},
   "source": [
    "# Priorization of results"
   ]
  },
  {
   "cell_type": "markdown",
   "metadata": {},
   "source": [
    "In this part of the code, priorization (demo) is applied to the actual predictions/results (y_proba_max_pooled)."
   ]
  },
  {
   "cell_type": "markdown",
   "metadata": {},
   "source": [
    "#### Get feature values per hotzone and standardize"
   ]
  },
  {
   "cell_type": "markdown",
   "metadata": {},
   "source": [
    "The feature values per hotzone have to be extracted in order to apply the prioritization. For this, the mean of all feature values for the pixels in a hotzone are taken."
   ]
  },
  {
   "cell_type": "code",
   "execution_count": 11,
   "metadata": {},
   "outputs": [],
   "source": [
    "def standardize_feature_value(index_feature, value):\n",
    "    '''\n",
    "    This will standardize the feature value which will make it possible to implement in the utility function\n",
    "    z = (x - u) / s\n",
    "    s = std of feature\n",
    "    u = mean of feature\n",
    "    x = feature value\n",
    "    '''\n",
    "    list_feature_index = [val_cols.index(i) for i in val_cols if i not in ['future_deforestation', 'RelativeXPoint', 'RelativeYPoint']]\n",
    "    s = np.std(val_arr[index_feature, :, :])\n",
    "    if float(s) == float(0):\n",
    "        s = s + 1\n",
    "    u = np.mean(val_arr[index_feature, :, :])\n",
    "    standardized_value = (value-u) / s\n",
    "    return standardized_value\n",
    "\n",
    "def get_feature_values_prediction(hotzone_nr):\n",
    "    '''\n",
    "    This function will return all feature values (the mean) for the hotzone_nr you give as an input. \n",
    "    Moreover, this function will also standardize these feature values using the standardscaler in order to apply them in the utility function.\n",
    "    '''\n",
    "    list_feature_index = [val_cols.index(i) for i in val_cols if i not in ['future_deforestation', 'RelativeXPoint', 'RelativeYPoint']]\n",
    "    hotzone_nr = hotzone_nr - 1\n",
    "    hot_zone_index = 32 * (hotzone_nr)\n",
    "    extra_index = hot_zone_index + 32\n",
    "    #print(hot_zone_index)\n",
    "    #print(extra_index)\n",
    "    all_features = [np.mean(val_arr[i, :32, hot_zone_index:extra_index]) for i in list_feature_index]\n",
    "    return [standardize_feature_value(i,j) for i,j in zip(list_feature_index, all_features)]"
   ]
  },
  {
   "cell_type": "markdown",
   "metadata": {},
   "source": [
    "#### Read data google forms"
   ]
  },
  {
   "cell_type": "markdown",
   "metadata": {},
   "source": [
    "The data used in this demo is collected via a google form. This code will read the form and write the data to a dataframe."
   ]
  },
  {
   "cell_type": "code",
   "execution_count": 12,
   "metadata": {},
   "outputs": [],
   "source": [
    "def read_survey():\n",
    "    r = requests.get('https://docs.google.com/spreadsheet/ccc?key=1BJJ3YPbbMzmbtaBbtYoM0nhr1egHwrrhUvVzQYExyIY&output=csv')\n",
    "    data = r.content\n",
    "    df = pd.read_csv(BytesIO(data))\n",
    "    df.columns = ['timestamp', 'RoadsDistance', 'UrbanicityDistance', 'PalmOilConcession']\n",
    "    df = df[df.columns[1:]]\n",
    "    return df\n",
    "\n",
    "def last_answer():\n",
    "    df = read_survey()\n",
    "    df = df.iloc[-1:]\n",
    "    return df"
   ]
  },
  {
   "cell_type": "markdown",
   "metadata": {},
   "source": [
    "#### Prioritize the data from the form"
   ]
  },
  {
   "cell_type": "markdown",
   "metadata": {},
   "source": [
    "The priorization value for each hotzone is needed in order to give an output of which of the predictions is the most important to the user. "
   ]
  },
  {
   "cell_type": "code",
   "execution_count": 13,
   "metadata": {},
   "outputs": [],
   "source": [
    "def priorization_value(hotzone_nr):\n",
    "    '''\n",
    "    This function will determine the value for the prioritization using the utility values and the feature values.\n",
    "    '''\n",
    "    \n",
    "    column_index = [val_cols.index(i) for i in val_cols if i not in ['future_deforestation', 'RelativeXPoint', 'RelativeYPoint']]\n",
    "    column_names = [val_cols[i] for i in column_index]\n",
    "    df_results = last_answer()\n",
    "    prediction = y_proba_max_pooled[:, hotzone_nr-1]\n",
    "    same_columns = [i for i in df_results.columns if i in column_names]\n",
    "    \n",
    "    answer = sum([df_results[i].values*get_feature_values_prediction(hotzone_nr)[column_names.index(i)]*prediction for i in column_names if i in same_columns])\n",
    "\n",
    "    return answer"
   ]
  },
  {
   "cell_type": "markdown",
   "metadata": {},
   "source": [
    "#### Output the top-k number of prioritized values"
   ]
  },
  {
   "cell_type": "markdown",
   "metadata": {},
   "source": [
    "In this part, the output the top-k number of prioritized values together with their likelyhood deforestation is going to happen is printed to the user."
   ]
  },
  {
   "cell_type": "code",
   "execution_count": 73,
   "metadata": {},
   "outputs": [],
   "source": [
    "def give_priorization(nr_outputs):\n",
    "    '''\n",
    "    This function prioritizes all the data and the associated probabilities.\n",
    "    '''\n",
    "    all_values = [(idx , priorization_value(i)) for idx,i in enumerate(range(1,y_proba_max_pooled.shape[1] + 1))]\n",
    "    sorted_priorizations = sorted(all_values, key=lambda data: data[1], reverse=True)\n",
    "    sorteds = sorted_priorizations[0:nr_outputs]\n",
    "    data = [[i[0] + 1, i[1][0], y_proba_max_pooled[:,i[0]][0]] for i in sorteds]\n",
    "    print(pd.DataFrame(data, columns=headers, index=np.arange(1, len(data) + 1)))\n",
    "    #return sorted_priorizations\n"
   ]
  },
  {
   "cell_type": "code",
   "execution_count": 74,
   "metadata": {},
   "outputs": [
    {
     "name": "stdout",
     "output_type": "stream",
     "text": [
      "    Hotzone Number  Prioritization Value  Deforestation Probability\n",
      "1              152             13.414288                       0.98\n",
      "2               20             11.856618                       0.76\n",
      "3               17             11.318908                       0.95\n",
      "4              153              9.771743                       0.74\n",
      "5              100              8.707635                       0.82\n",
      "6              148              8.640808                       0.82\n",
      "7               19              8.505597                       0.50\n",
      "8               13              8.397000                       0.96\n",
      "9              155              7.623106                       0.54\n",
      "10              15              7.201851                       0.70\n"
     ]
    }
   ],
   "source": [
    "give_priorization(10)"
   ]
  },
  {
   "cell_type": "code",
   "execution_count": 72,
   "metadata": {},
   "outputs": [
    {
     "name": "stdout",
     "output_type": "stream",
     "text": [
      "-0.821395485798674\n",
      "-0.6601869691868429\n",
      "2.32266183166862\n"
     ]
    }
   ],
   "source": [
    "\n",
    "index = [val_cols.index(i) for i in val_cols if i in ['RoadsDistance', 'UrbanicityDistance', 'PalmOilConcession']]\n",
    "for i in index:\n",
    "    print (get_feature_values_prediction(155)[i])"
   ]
  }
 ],
 "metadata": {
  "kernelspec": {
   "display_name": "Python 3",
   "language": "python",
   "name": "python3"
  },
  "language_info": {
   "codemirror_mode": {
    "name": "ipython",
    "version": 3
   },
   "file_extension": ".py",
   "mimetype": "text/x-python",
   "name": "python",
   "nbconvert_exporter": "python",
   "pygments_lexer": "ipython3",
   "version": "3.8.3"
  }
 },
 "nbformat": 4,
 "nbformat_minor": 4
}
